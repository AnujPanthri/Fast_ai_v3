{
  "metadata": {
    "kernelspec": {
      "language": "python",
      "display_name": "Python 3",
      "name": "python3"
    },
    "language_info": {
      "name": "python",
      "version": "3.7.12",
      "mimetype": "text/x-python",
      "codemirror_mode": {
        "name": "ipython",
        "version": 3
      },
      "pygments_lexer": "ipython3",
      "nbconvert_exporter": "python",
      "file_extension": ".py"
    },
    "colab": {
      "name": "spaceship-titanic-notebook.ipynb",
      "provenance": []
    }
  },
  "nbformat_minor": 0,
  "nbformat": 4,
  "cells": [
    {
      "cell_type": "code",
      "source": [
        "import numpy as np # linear algebra\n",
        "import pandas as pd # data processing, CSV file I/O (e.g. pd.read_csv)\n",
        "\n",
        "!mkdir ~/.kaggle/\n",
        "# Get kaggle.json\n",
        "!cp \"kaggle.json\" \"/root/.kaggle/kaggle.json\"\n",
        "!chmod 600 /root/.kaggle/kaggle.json\n",
        "!kaggle competitions download -c spaceship-titanic"
      ],
      "metadata": {
        "_uuid": "8f2839f25d086af736a60e9eeb907d3b93b6e0e5",
        "_cell_guid": "b1076dfc-b9ad-4769-8c92-a6c4dae69d19",
        "execution": {
          "iopub.status.busy": "2022-08-01T09:28:51.822558Z",
          "iopub.execute_input": "2022-08-01T09:28:51.823010Z",
          "iopub.status.idle": "2022-08-01T09:28:51.856744Z",
          "shell.execute_reply.started": "2022-08-01T09:28:51.822920Z",
          "shell.execute_reply": "2022-08-01T09:28:51.855481Z"
        },
        "trusted": true,
        "id": "CFAn4G7x33vY"
      },
      "execution_count": null,
      "outputs": []
    },
    {
      "cell_type": "code",
      "source": [
        "!unzip spaceship-titanic.zip >&NULL\n",
        "!rm NULL"
      ],
      "metadata": {
        "id": "4I7-9r0m4oZv"
      },
      "execution_count": 10,
      "outputs": []
    },
    {
      "cell_type": "code",
      "source": [
        "train_df = pd.read_csv(\"train.csv\")\n",
        "test_df = pd.read_csv(\"test.csv\")\n",
        "\n",
        "train_len=len(train_df)\n",
        "train_test_df=pd.concat([train_df,test_df],axis=0)\n",
        "train_test_df"
      ],
      "metadata": {
        "execution": {
          "iopub.status.busy": "2022-08-01T09:28:52.511752Z",
          "iopub.execute_input": "2022-08-01T09:28:52.512871Z",
          "iopub.status.idle": "2022-08-01T09:28:52.643778Z",
          "shell.execute_reply.started": "2022-08-01T09:28:52.512820Z",
          "shell.execute_reply": "2022-08-01T09:28:52.642871Z"
        },
        "trusted": true,
        "colab": {
          "base_uri": "https://localhost:8080/",
          "height": 424
        },
        "id": "BJlNODku33vi",
        "outputId": "591b8faf-ec18-4c04-9edf-b6b506d3764c"
      },
      "execution_count": 433,
      "outputs": [
        {
          "output_type": "execute_result",
          "data": {
            "text/plain": [
              "     PassengerId HomePlanet CryoSleep     Cabin    Destination   Age    VIP  \\\n",
              "0        0001_01     Europa     False     B/0/P    TRAPPIST-1e  39.0  False   \n",
              "1        0002_01      Earth     False     F/0/S    TRAPPIST-1e  24.0  False   \n",
              "2        0003_01     Europa     False     A/0/S    TRAPPIST-1e  58.0   True   \n",
              "3        0003_02     Europa     False     A/0/S    TRAPPIST-1e  33.0  False   \n",
              "4        0004_01      Earth     False     F/1/S    TRAPPIST-1e  16.0  False   \n",
              "...          ...        ...       ...       ...            ...   ...    ...   \n",
              "4272     9266_02      Earth      True  G/1496/S    TRAPPIST-1e  34.0  False   \n",
              "4273     9269_01      Earth     False       NaN    TRAPPIST-1e  42.0  False   \n",
              "4274     9271_01       Mars      True   D/296/P    55 Cancri e   NaN  False   \n",
              "4275     9273_01     Europa     False   D/297/P            NaN   NaN  False   \n",
              "4276     9277_01      Earth      True  G/1498/S  PSO J318.5-22  43.0  False   \n",
              "\n",
              "      RoomService  FoodCourt  ShoppingMall     Spa  VRDeck               Name  \\\n",
              "0             0.0        0.0           0.0     0.0     0.0    Maham Ofracculy   \n",
              "1           109.0        9.0          25.0   549.0    44.0       Juanna Vines   \n",
              "2            43.0     3576.0           0.0  6715.0    49.0      Altark Susent   \n",
              "3             0.0     1283.0         371.0  3329.0   193.0       Solam Susent   \n",
              "4           303.0       70.0         151.0   565.0     2.0  Willy Santantines   \n",
              "...           ...        ...           ...     ...     ...                ...   \n",
              "4272          0.0        0.0           0.0     0.0     0.0        Jeron Peter   \n",
              "4273          0.0      847.0          17.0    10.0   144.0      Matty Scheron   \n",
              "4274          0.0        0.0           0.0     0.0     0.0        Jayrin Pore   \n",
              "4275          0.0     2680.0           0.0     0.0   523.0     Kitakan Conale   \n",
              "4276          0.0        0.0           0.0     0.0     0.0   Lilace Leonzaley   \n",
              "\n",
              "     Transported  \n",
              "0          False  \n",
              "1           True  \n",
              "2          False  \n",
              "3          False  \n",
              "4           True  \n",
              "...          ...  \n",
              "4272         NaN  \n",
              "4273         NaN  \n",
              "4274         NaN  \n",
              "4275         NaN  \n",
              "4276         NaN  \n",
              "\n",
              "[12970 rows x 14 columns]"
            ],
            "text/html": [
              "\n",
              "  <div id=\"df-7ac80c46-f394-42d9-ac7a-82eebe40eb23\">\n",
              "    <div class=\"colab-df-container\">\n",
              "      <div>\n",
              "<style scoped>\n",
              "    .dataframe tbody tr th:only-of-type {\n",
              "        vertical-align: middle;\n",
              "    }\n",
              "\n",
              "    .dataframe tbody tr th {\n",
              "        vertical-align: top;\n",
              "    }\n",
              "\n",
              "    .dataframe thead th {\n",
              "        text-align: right;\n",
              "    }\n",
              "</style>\n",
              "<table border=\"1\" class=\"dataframe\">\n",
              "  <thead>\n",
              "    <tr style=\"text-align: right;\">\n",
              "      <th></th>\n",
              "      <th>PassengerId</th>\n",
              "      <th>HomePlanet</th>\n",
              "      <th>CryoSleep</th>\n",
              "      <th>Cabin</th>\n",
              "      <th>Destination</th>\n",
              "      <th>Age</th>\n",
              "      <th>VIP</th>\n",
              "      <th>RoomService</th>\n",
              "      <th>FoodCourt</th>\n",
              "      <th>ShoppingMall</th>\n",
              "      <th>Spa</th>\n",
              "      <th>VRDeck</th>\n",
              "      <th>Name</th>\n",
              "      <th>Transported</th>\n",
              "    </tr>\n",
              "  </thead>\n",
              "  <tbody>\n",
              "    <tr>\n",
              "      <th>0</th>\n",
              "      <td>0001_01</td>\n",
              "      <td>Europa</td>\n",
              "      <td>False</td>\n",
              "      <td>B/0/P</td>\n",
              "      <td>TRAPPIST-1e</td>\n",
              "      <td>39.0</td>\n",
              "      <td>False</td>\n",
              "      <td>0.0</td>\n",
              "      <td>0.0</td>\n",
              "      <td>0.0</td>\n",
              "      <td>0.0</td>\n",
              "      <td>0.0</td>\n",
              "      <td>Maham Ofracculy</td>\n",
              "      <td>False</td>\n",
              "    </tr>\n",
              "    <tr>\n",
              "      <th>1</th>\n",
              "      <td>0002_01</td>\n",
              "      <td>Earth</td>\n",
              "      <td>False</td>\n",
              "      <td>F/0/S</td>\n",
              "      <td>TRAPPIST-1e</td>\n",
              "      <td>24.0</td>\n",
              "      <td>False</td>\n",
              "      <td>109.0</td>\n",
              "      <td>9.0</td>\n",
              "      <td>25.0</td>\n",
              "      <td>549.0</td>\n",
              "      <td>44.0</td>\n",
              "      <td>Juanna Vines</td>\n",
              "      <td>True</td>\n",
              "    </tr>\n",
              "    <tr>\n",
              "      <th>2</th>\n",
              "      <td>0003_01</td>\n",
              "      <td>Europa</td>\n",
              "      <td>False</td>\n",
              "      <td>A/0/S</td>\n",
              "      <td>TRAPPIST-1e</td>\n",
              "      <td>58.0</td>\n",
              "      <td>True</td>\n",
              "      <td>43.0</td>\n",
              "      <td>3576.0</td>\n",
              "      <td>0.0</td>\n",
              "      <td>6715.0</td>\n",
              "      <td>49.0</td>\n",
              "      <td>Altark Susent</td>\n",
              "      <td>False</td>\n",
              "    </tr>\n",
              "    <tr>\n",
              "      <th>3</th>\n",
              "      <td>0003_02</td>\n",
              "      <td>Europa</td>\n",
              "      <td>False</td>\n",
              "      <td>A/0/S</td>\n",
              "      <td>TRAPPIST-1e</td>\n",
              "      <td>33.0</td>\n",
              "      <td>False</td>\n",
              "      <td>0.0</td>\n",
              "      <td>1283.0</td>\n",
              "      <td>371.0</td>\n",
              "      <td>3329.0</td>\n",
              "      <td>193.0</td>\n",
              "      <td>Solam Susent</td>\n",
              "      <td>False</td>\n",
              "    </tr>\n",
              "    <tr>\n",
              "      <th>4</th>\n",
              "      <td>0004_01</td>\n",
              "      <td>Earth</td>\n",
              "      <td>False</td>\n",
              "      <td>F/1/S</td>\n",
              "      <td>TRAPPIST-1e</td>\n",
              "      <td>16.0</td>\n",
              "      <td>False</td>\n",
              "      <td>303.0</td>\n",
              "      <td>70.0</td>\n",
              "      <td>151.0</td>\n",
              "      <td>565.0</td>\n",
              "      <td>2.0</td>\n",
              "      <td>Willy Santantines</td>\n",
              "      <td>True</td>\n",
              "    </tr>\n",
              "    <tr>\n",
              "      <th>...</th>\n",
              "      <td>...</td>\n",
              "      <td>...</td>\n",
              "      <td>...</td>\n",
              "      <td>...</td>\n",
              "      <td>...</td>\n",
              "      <td>...</td>\n",
              "      <td>...</td>\n",
              "      <td>...</td>\n",
              "      <td>...</td>\n",
              "      <td>...</td>\n",
              "      <td>...</td>\n",
              "      <td>...</td>\n",
              "      <td>...</td>\n",
              "      <td>...</td>\n",
              "    </tr>\n",
              "    <tr>\n",
              "      <th>4272</th>\n",
              "      <td>9266_02</td>\n",
              "      <td>Earth</td>\n",
              "      <td>True</td>\n",
              "      <td>G/1496/S</td>\n",
              "      <td>TRAPPIST-1e</td>\n",
              "      <td>34.0</td>\n",
              "      <td>False</td>\n",
              "      <td>0.0</td>\n",
              "      <td>0.0</td>\n",
              "      <td>0.0</td>\n",
              "      <td>0.0</td>\n",
              "      <td>0.0</td>\n",
              "      <td>Jeron Peter</td>\n",
              "      <td>NaN</td>\n",
              "    </tr>\n",
              "    <tr>\n",
              "      <th>4273</th>\n",
              "      <td>9269_01</td>\n",
              "      <td>Earth</td>\n",
              "      <td>False</td>\n",
              "      <td>NaN</td>\n",
              "      <td>TRAPPIST-1e</td>\n",
              "      <td>42.0</td>\n",
              "      <td>False</td>\n",
              "      <td>0.0</td>\n",
              "      <td>847.0</td>\n",
              "      <td>17.0</td>\n",
              "      <td>10.0</td>\n",
              "      <td>144.0</td>\n",
              "      <td>Matty Scheron</td>\n",
              "      <td>NaN</td>\n",
              "    </tr>\n",
              "    <tr>\n",
              "      <th>4274</th>\n",
              "      <td>9271_01</td>\n",
              "      <td>Mars</td>\n",
              "      <td>True</td>\n",
              "      <td>D/296/P</td>\n",
              "      <td>55 Cancri e</td>\n",
              "      <td>NaN</td>\n",
              "      <td>False</td>\n",
              "      <td>0.0</td>\n",
              "      <td>0.0</td>\n",
              "      <td>0.0</td>\n",
              "      <td>0.0</td>\n",
              "      <td>0.0</td>\n",
              "      <td>Jayrin Pore</td>\n",
              "      <td>NaN</td>\n",
              "    </tr>\n",
              "    <tr>\n",
              "      <th>4275</th>\n",
              "      <td>9273_01</td>\n",
              "      <td>Europa</td>\n",
              "      <td>False</td>\n",
              "      <td>D/297/P</td>\n",
              "      <td>NaN</td>\n",
              "      <td>NaN</td>\n",
              "      <td>False</td>\n",
              "      <td>0.0</td>\n",
              "      <td>2680.0</td>\n",
              "      <td>0.0</td>\n",
              "      <td>0.0</td>\n",
              "      <td>523.0</td>\n",
              "      <td>Kitakan Conale</td>\n",
              "      <td>NaN</td>\n",
              "    </tr>\n",
              "    <tr>\n",
              "      <th>4276</th>\n",
              "      <td>9277_01</td>\n",
              "      <td>Earth</td>\n",
              "      <td>True</td>\n",
              "      <td>G/1498/S</td>\n",
              "      <td>PSO J318.5-22</td>\n",
              "      <td>43.0</td>\n",
              "      <td>False</td>\n",
              "      <td>0.0</td>\n",
              "      <td>0.0</td>\n",
              "      <td>0.0</td>\n",
              "      <td>0.0</td>\n",
              "      <td>0.0</td>\n",
              "      <td>Lilace Leonzaley</td>\n",
              "      <td>NaN</td>\n",
              "    </tr>\n",
              "  </tbody>\n",
              "</table>\n",
              "<p>12970 rows × 14 columns</p>\n",
              "</div>\n",
              "      <button class=\"colab-df-convert\" onclick=\"convertToInteractive('df-7ac80c46-f394-42d9-ac7a-82eebe40eb23')\"\n",
              "              title=\"Convert this dataframe to an interactive table.\"\n",
              "              style=\"display:none;\">\n",
              "        \n",
              "  <svg xmlns=\"http://www.w3.org/2000/svg\" height=\"24px\"viewBox=\"0 0 24 24\"\n",
              "       width=\"24px\">\n",
              "    <path d=\"M0 0h24v24H0V0z\" fill=\"none\"/>\n",
              "    <path d=\"M18.56 5.44l.94 2.06.94-2.06 2.06-.94-2.06-.94-.94-2.06-.94 2.06-2.06.94zm-11 1L8.5 8.5l.94-2.06 2.06-.94-2.06-.94L8.5 2.5l-.94 2.06-2.06.94zm10 10l.94 2.06.94-2.06 2.06-.94-2.06-.94-.94-2.06-.94 2.06-2.06.94z\"/><path d=\"M17.41 7.96l-1.37-1.37c-.4-.4-.92-.59-1.43-.59-.52 0-1.04.2-1.43.59L10.3 9.45l-7.72 7.72c-.78.78-.78 2.05 0 2.83L4 21.41c.39.39.9.59 1.41.59.51 0 1.02-.2 1.41-.59l7.78-7.78 2.81-2.81c.8-.78.8-2.07 0-2.86zM5.41 20L4 18.59l7.72-7.72 1.47 1.35L5.41 20z\"/>\n",
              "  </svg>\n",
              "      </button>\n",
              "      \n",
              "  <style>\n",
              "    .colab-df-container {\n",
              "      display:flex;\n",
              "      flex-wrap:wrap;\n",
              "      gap: 12px;\n",
              "    }\n",
              "\n",
              "    .colab-df-convert {\n",
              "      background-color: #E8F0FE;\n",
              "      border: none;\n",
              "      border-radius: 50%;\n",
              "      cursor: pointer;\n",
              "      display: none;\n",
              "      fill: #1967D2;\n",
              "      height: 32px;\n",
              "      padding: 0 0 0 0;\n",
              "      width: 32px;\n",
              "    }\n",
              "\n",
              "    .colab-df-convert:hover {\n",
              "      background-color: #E2EBFA;\n",
              "      box-shadow: 0px 1px 2px rgba(60, 64, 67, 0.3), 0px 1px 3px 1px rgba(60, 64, 67, 0.15);\n",
              "      fill: #174EA6;\n",
              "    }\n",
              "\n",
              "    [theme=dark] .colab-df-convert {\n",
              "      background-color: #3B4455;\n",
              "      fill: #D2E3FC;\n",
              "    }\n",
              "\n",
              "    [theme=dark] .colab-df-convert:hover {\n",
              "      background-color: #434B5C;\n",
              "      box-shadow: 0px 1px 3px 1px rgba(0, 0, 0, 0.15);\n",
              "      filter: drop-shadow(0px 1px 2px rgba(0, 0, 0, 0.3));\n",
              "      fill: #FFFFFF;\n",
              "    }\n",
              "  </style>\n",
              "\n",
              "      <script>\n",
              "        const buttonEl =\n",
              "          document.querySelector('#df-7ac80c46-f394-42d9-ac7a-82eebe40eb23 button.colab-df-convert');\n",
              "        buttonEl.style.display =\n",
              "          google.colab.kernel.accessAllowed ? 'block' : 'none';\n",
              "\n",
              "        async function convertToInteractive(key) {\n",
              "          const element = document.querySelector('#df-7ac80c46-f394-42d9-ac7a-82eebe40eb23');\n",
              "          const dataTable =\n",
              "            await google.colab.kernel.invokeFunction('convertToInteractive',\n",
              "                                                     [key], {});\n",
              "          if (!dataTable) return;\n",
              "\n",
              "          const docLinkHtml = 'Like what you see? Visit the ' +\n",
              "            '<a target=\"_blank\" href=https://colab.research.google.com/notebooks/data_table.ipynb>data table notebook</a>'\n",
              "            + ' to learn more about interactive tables.';\n",
              "          element.innerHTML = '';\n",
              "          dataTable['output_type'] = 'display_data';\n",
              "          await google.colab.output.renderOutput(dataTable, element);\n",
              "          const docLink = document.createElement('div');\n",
              "          docLink.innerHTML = docLinkHtml;\n",
              "          element.appendChild(docLink);\n",
              "        }\n",
              "      </script>\n",
              "    </div>\n",
              "  </div>\n",
              "  "
            ]
          },
          "metadata": {},
          "execution_count": 433
        }
      ]
    },
    {
      "cell_type": "code",
      "source": [
        "def correct_cryo_sleep(df):\n",
        "    df['CryoSleep'] = np.where((df['CryoSleep'].isnull()) & (df['RoomService']==0) & (df['FoodCourt']==0 )\n",
        "                & (df['ShoppingMall']==0) & (df['Spa']==0) & (df['VRDeck']==0),True,df['CryoSleep'])\n",
        "    df['CryoSleep'] = np.where(df['CryoSleep'].isnull() & ((df['RoomService']>0) | (df['FoodCourt']>0 )\n",
        "                | (df['ShoppingMall']>0) | (df['Spa']>0) | (df['VRDeck']>0)),False,df['CryoSleep'])\n",
        "    return df\n",
        "def correct_amenity_values(df):\n",
        "    amenity_cols = ['RoomService', 'FoodCourt', 'ShoppingMall', 'Spa', 'VRDeck']\n",
        "    for service in amenity_cols:\n",
        "        df[service] = np.where(df[service].isnull() & (df['CryoSleep']==True),0.0,df[service])\n",
        "        df[service]=df[service].fillna(0.0)\n",
        "    return df\n",
        "correct_cryo_sleep(train_test_df)\n",
        "correct_amenity_values(train_test_df)\n",
        "# train_test_df.isna().sum()"
      ],
      "metadata": {
        "execution": {
          "iopub.status.busy": "2022-08-01T09:28:53.602198Z",
          "iopub.execute_input": "2022-08-01T09:28:53.602599Z",
          "iopub.status.idle": "2022-08-01T09:28:53.647382Z",
          "shell.execute_reply.started": "2022-08-01T09:28:53.602562Z",
          "shell.execute_reply": "2022-08-01T09:28:53.646046Z"
        },
        "trusted": true,
        "colab": {
          "base_uri": "https://localhost:8080/",
          "height": 424
        },
        "id": "G5TsGvUQ33vk",
        "outputId": "abf1695b-e91f-446e-b49f-8b8fe3d3c803"
      },
      "execution_count": 434,
      "outputs": [
        {
          "output_type": "execute_result",
          "data": {
            "text/plain": [
              "     PassengerId HomePlanet CryoSleep     Cabin    Destination   Age    VIP  \\\n",
              "0        0001_01     Europa     False     B/0/P    TRAPPIST-1e  39.0  False   \n",
              "1        0002_01      Earth     False     F/0/S    TRAPPIST-1e  24.0  False   \n",
              "2        0003_01     Europa     False     A/0/S    TRAPPIST-1e  58.0   True   \n",
              "3        0003_02     Europa     False     A/0/S    TRAPPIST-1e  33.0  False   \n",
              "4        0004_01      Earth     False     F/1/S    TRAPPIST-1e  16.0  False   \n",
              "...          ...        ...       ...       ...            ...   ...    ...   \n",
              "4272     9266_02      Earth      True  G/1496/S    TRAPPIST-1e  34.0  False   \n",
              "4273     9269_01      Earth     False       NaN    TRAPPIST-1e  42.0  False   \n",
              "4274     9271_01       Mars      True   D/296/P    55 Cancri e   NaN  False   \n",
              "4275     9273_01     Europa     False   D/297/P            NaN   NaN  False   \n",
              "4276     9277_01      Earth      True  G/1498/S  PSO J318.5-22  43.0  False   \n",
              "\n",
              "      RoomService  FoodCourt  ShoppingMall     Spa  VRDeck               Name  \\\n",
              "0             0.0        0.0           0.0     0.0     0.0    Maham Ofracculy   \n",
              "1           109.0        9.0          25.0   549.0    44.0       Juanna Vines   \n",
              "2            43.0     3576.0           0.0  6715.0    49.0      Altark Susent   \n",
              "3             0.0     1283.0         371.0  3329.0   193.0       Solam Susent   \n",
              "4           303.0       70.0         151.0   565.0     2.0  Willy Santantines   \n",
              "...           ...        ...           ...     ...     ...                ...   \n",
              "4272          0.0        0.0           0.0     0.0     0.0        Jeron Peter   \n",
              "4273          0.0      847.0          17.0    10.0   144.0      Matty Scheron   \n",
              "4274          0.0        0.0           0.0     0.0     0.0        Jayrin Pore   \n",
              "4275          0.0     2680.0           0.0     0.0   523.0     Kitakan Conale   \n",
              "4276          0.0        0.0           0.0     0.0     0.0   Lilace Leonzaley   \n",
              "\n",
              "     Transported  \n",
              "0          False  \n",
              "1           True  \n",
              "2          False  \n",
              "3          False  \n",
              "4           True  \n",
              "...          ...  \n",
              "4272         NaN  \n",
              "4273         NaN  \n",
              "4274         NaN  \n",
              "4275         NaN  \n",
              "4276         NaN  \n",
              "\n",
              "[12970 rows x 14 columns]"
            ],
            "text/html": [
              "\n",
              "  <div id=\"df-13e4b668-8422-4f44-9f02-e9fa2a0216ab\">\n",
              "    <div class=\"colab-df-container\">\n",
              "      <div>\n",
              "<style scoped>\n",
              "    .dataframe tbody tr th:only-of-type {\n",
              "        vertical-align: middle;\n",
              "    }\n",
              "\n",
              "    .dataframe tbody tr th {\n",
              "        vertical-align: top;\n",
              "    }\n",
              "\n",
              "    .dataframe thead th {\n",
              "        text-align: right;\n",
              "    }\n",
              "</style>\n",
              "<table border=\"1\" class=\"dataframe\">\n",
              "  <thead>\n",
              "    <tr style=\"text-align: right;\">\n",
              "      <th></th>\n",
              "      <th>PassengerId</th>\n",
              "      <th>HomePlanet</th>\n",
              "      <th>CryoSleep</th>\n",
              "      <th>Cabin</th>\n",
              "      <th>Destination</th>\n",
              "      <th>Age</th>\n",
              "      <th>VIP</th>\n",
              "      <th>RoomService</th>\n",
              "      <th>FoodCourt</th>\n",
              "      <th>ShoppingMall</th>\n",
              "      <th>Spa</th>\n",
              "      <th>VRDeck</th>\n",
              "      <th>Name</th>\n",
              "      <th>Transported</th>\n",
              "    </tr>\n",
              "  </thead>\n",
              "  <tbody>\n",
              "    <tr>\n",
              "      <th>0</th>\n",
              "      <td>0001_01</td>\n",
              "      <td>Europa</td>\n",
              "      <td>False</td>\n",
              "      <td>B/0/P</td>\n",
              "      <td>TRAPPIST-1e</td>\n",
              "      <td>39.0</td>\n",
              "      <td>False</td>\n",
              "      <td>0.0</td>\n",
              "      <td>0.0</td>\n",
              "      <td>0.0</td>\n",
              "      <td>0.0</td>\n",
              "      <td>0.0</td>\n",
              "      <td>Maham Ofracculy</td>\n",
              "      <td>False</td>\n",
              "    </tr>\n",
              "    <tr>\n",
              "      <th>1</th>\n",
              "      <td>0002_01</td>\n",
              "      <td>Earth</td>\n",
              "      <td>False</td>\n",
              "      <td>F/0/S</td>\n",
              "      <td>TRAPPIST-1e</td>\n",
              "      <td>24.0</td>\n",
              "      <td>False</td>\n",
              "      <td>109.0</td>\n",
              "      <td>9.0</td>\n",
              "      <td>25.0</td>\n",
              "      <td>549.0</td>\n",
              "      <td>44.0</td>\n",
              "      <td>Juanna Vines</td>\n",
              "      <td>True</td>\n",
              "    </tr>\n",
              "    <tr>\n",
              "      <th>2</th>\n",
              "      <td>0003_01</td>\n",
              "      <td>Europa</td>\n",
              "      <td>False</td>\n",
              "      <td>A/0/S</td>\n",
              "      <td>TRAPPIST-1e</td>\n",
              "      <td>58.0</td>\n",
              "      <td>True</td>\n",
              "      <td>43.0</td>\n",
              "      <td>3576.0</td>\n",
              "      <td>0.0</td>\n",
              "      <td>6715.0</td>\n",
              "      <td>49.0</td>\n",
              "      <td>Altark Susent</td>\n",
              "      <td>False</td>\n",
              "    </tr>\n",
              "    <tr>\n",
              "      <th>3</th>\n",
              "      <td>0003_02</td>\n",
              "      <td>Europa</td>\n",
              "      <td>False</td>\n",
              "      <td>A/0/S</td>\n",
              "      <td>TRAPPIST-1e</td>\n",
              "      <td>33.0</td>\n",
              "      <td>False</td>\n",
              "      <td>0.0</td>\n",
              "      <td>1283.0</td>\n",
              "      <td>371.0</td>\n",
              "      <td>3329.0</td>\n",
              "      <td>193.0</td>\n",
              "      <td>Solam Susent</td>\n",
              "      <td>False</td>\n",
              "    </tr>\n",
              "    <tr>\n",
              "      <th>4</th>\n",
              "      <td>0004_01</td>\n",
              "      <td>Earth</td>\n",
              "      <td>False</td>\n",
              "      <td>F/1/S</td>\n",
              "      <td>TRAPPIST-1e</td>\n",
              "      <td>16.0</td>\n",
              "      <td>False</td>\n",
              "      <td>303.0</td>\n",
              "      <td>70.0</td>\n",
              "      <td>151.0</td>\n",
              "      <td>565.0</td>\n",
              "      <td>2.0</td>\n",
              "      <td>Willy Santantines</td>\n",
              "      <td>True</td>\n",
              "    </tr>\n",
              "    <tr>\n",
              "      <th>...</th>\n",
              "      <td>...</td>\n",
              "      <td>...</td>\n",
              "      <td>...</td>\n",
              "      <td>...</td>\n",
              "      <td>...</td>\n",
              "      <td>...</td>\n",
              "      <td>...</td>\n",
              "      <td>...</td>\n",
              "      <td>...</td>\n",
              "      <td>...</td>\n",
              "      <td>...</td>\n",
              "      <td>...</td>\n",
              "      <td>...</td>\n",
              "      <td>...</td>\n",
              "    </tr>\n",
              "    <tr>\n",
              "      <th>4272</th>\n",
              "      <td>9266_02</td>\n",
              "      <td>Earth</td>\n",
              "      <td>True</td>\n",
              "      <td>G/1496/S</td>\n",
              "      <td>TRAPPIST-1e</td>\n",
              "      <td>34.0</td>\n",
              "      <td>False</td>\n",
              "      <td>0.0</td>\n",
              "      <td>0.0</td>\n",
              "      <td>0.0</td>\n",
              "      <td>0.0</td>\n",
              "      <td>0.0</td>\n",
              "      <td>Jeron Peter</td>\n",
              "      <td>NaN</td>\n",
              "    </tr>\n",
              "    <tr>\n",
              "      <th>4273</th>\n",
              "      <td>9269_01</td>\n",
              "      <td>Earth</td>\n",
              "      <td>False</td>\n",
              "      <td>NaN</td>\n",
              "      <td>TRAPPIST-1e</td>\n",
              "      <td>42.0</td>\n",
              "      <td>False</td>\n",
              "      <td>0.0</td>\n",
              "      <td>847.0</td>\n",
              "      <td>17.0</td>\n",
              "      <td>10.0</td>\n",
              "      <td>144.0</td>\n",
              "      <td>Matty Scheron</td>\n",
              "      <td>NaN</td>\n",
              "    </tr>\n",
              "    <tr>\n",
              "      <th>4274</th>\n",
              "      <td>9271_01</td>\n",
              "      <td>Mars</td>\n",
              "      <td>True</td>\n",
              "      <td>D/296/P</td>\n",
              "      <td>55 Cancri e</td>\n",
              "      <td>NaN</td>\n",
              "      <td>False</td>\n",
              "      <td>0.0</td>\n",
              "      <td>0.0</td>\n",
              "      <td>0.0</td>\n",
              "      <td>0.0</td>\n",
              "      <td>0.0</td>\n",
              "      <td>Jayrin Pore</td>\n",
              "      <td>NaN</td>\n",
              "    </tr>\n",
              "    <tr>\n",
              "      <th>4275</th>\n",
              "      <td>9273_01</td>\n",
              "      <td>Europa</td>\n",
              "      <td>False</td>\n",
              "      <td>D/297/P</td>\n",
              "      <td>NaN</td>\n",
              "      <td>NaN</td>\n",
              "      <td>False</td>\n",
              "      <td>0.0</td>\n",
              "      <td>2680.0</td>\n",
              "      <td>0.0</td>\n",
              "      <td>0.0</td>\n",
              "      <td>523.0</td>\n",
              "      <td>Kitakan Conale</td>\n",
              "      <td>NaN</td>\n",
              "    </tr>\n",
              "    <tr>\n",
              "      <th>4276</th>\n",
              "      <td>9277_01</td>\n",
              "      <td>Earth</td>\n",
              "      <td>True</td>\n",
              "      <td>G/1498/S</td>\n",
              "      <td>PSO J318.5-22</td>\n",
              "      <td>43.0</td>\n",
              "      <td>False</td>\n",
              "      <td>0.0</td>\n",
              "      <td>0.0</td>\n",
              "      <td>0.0</td>\n",
              "      <td>0.0</td>\n",
              "      <td>0.0</td>\n",
              "      <td>Lilace Leonzaley</td>\n",
              "      <td>NaN</td>\n",
              "    </tr>\n",
              "  </tbody>\n",
              "</table>\n",
              "<p>12970 rows × 14 columns</p>\n",
              "</div>\n",
              "      <button class=\"colab-df-convert\" onclick=\"convertToInteractive('df-13e4b668-8422-4f44-9f02-e9fa2a0216ab')\"\n",
              "              title=\"Convert this dataframe to an interactive table.\"\n",
              "              style=\"display:none;\">\n",
              "        \n",
              "  <svg xmlns=\"http://www.w3.org/2000/svg\" height=\"24px\"viewBox=\"0 0 24 24\"\n",
              "       width=\"24px\">\n",
              "    <path d=\"M0 0h24v24H0V0z\" fill=\"none\"/>\n",
              "    <path d=\"M18.56 5.44l.94 2.06.94-2.06 2.06-.94-2.06-.94-.94-2.06-.94 2.06-2.06.94zm-11 1L8.5 8.5l.94-2.06 2.06-.94-2.06-.94L8.5 2.5l-.94 2.06-2.06.94zm10 10l.94 2.06.94-2.06 2.06-.94-2.06-.94-.94-2.06-.94 2.06-2.06.94z\"/><path d=\"M17.41 7.96l-1.37-1.37c-.4-.4-.92-.59-1.43-.59-.52 0-1.04.2-1.43.59L10.3 9.45l-7.72 7.72c-.78.78-.78 2.05 0 2.83L4 21.41c.39.39.9.59 1.41.59.51 0 1.02-.2 1.41-.59l7.78-7.78 2.81-2.81c.8-.78.8-2.07 0-2.86zM5.41 20L4 18.59l7.72-7.72 1.47 1.35L5.41 20z\"/>\n",
              "  </svg>\n",
              "      </button>\n",
              "      \n",
              "  <style>\n",
              "    .colab-df-container {\n",
              "      display:flex;\n",
              "      flex-wrap:wrap;\n",
              "      gap: 12px;\n",
              "    }\n",
              "\n",
              "    .colab-df-convert {\n",
              "      background-color: #E8F0FE;\n",
              "      border: none;\n",
              "      border-radius: 50%;\n",
              "      cursor: pointer;\n",
              "      display: none;\n",
              "      fill: #1967D2;\n",
              "      height: 32px;\n",
              "      padding: 0 0 0 0;\n",
              "      width: 32px;\n",
              "    }\n",
              "\n",
              "    .colab-df-convert:hover {\n",
              "      background-color: #E2EBFA;\n",
              "      box-shadow: 0px 1px 2px rgba(60, 64, 67, 0.3), 0px 1px 3px 1px rgba(60, 64, 67, 0.15);\n",
              "      fill: #174EA6;\n",
              "    }\n",
              "\n",
              "    [theme=dark] .colab-df-convert {\n",
              "      background-color: #3B4455;\n",
              "      fill: #D2E3FC;\n",
              "    }\n",
              "\n",
              "    [theme=dark] .colab-df-convert:hover {\n",
              "      background-color: #434B5C;\n",
              "      box-shadow: 0px 1px 3px 1px rgba(0, 0, 0, 0.15);\n",
              "      filter: drop-shadow(0px 1px 2px rgba(0, 0, 0, 0.3));\n",
              "      fill: #FFFFFF;\n",
              "    }\n",
              "  </style>\n",
              "\n",
              "      <script>\n",
              "        const buttonEl =\n",
              "          document.querySelector('#df-13e4b668-8422-4f44-9f02-e9fa2a0216ab button.colab-df-convert');\n",
              "        buttonEl.style.display =\n",
              "          google.colab.kernel.accessAllowed ? 'block' : 'none';\n",
              "\n",
              "        async function convertToInteractive(key) {\n",
              "          const element = document.querySelector('#df-13e4b668-8422-4f44-9f02-e9fa2a0216ab');\n",
              "          const dataTable =\n",
              "            await google.colab.kernel.invokeFunction('convertToInteractive',\n",
              "                                                     [key], {});\n",
              "          if (!dataTable) return;\n",
              "\n",
              "          const docLinkHtml = 'Like what you see? Visit the ' +\n",
              "            '<a target=\"_blank\" href=https://colab.research.google.com/notebooks/data_table.ipynb>data table notebook</a>'\n",
              "            + ' to learn more about interactive tables.';\n",
              "          element.innerHTML = '';\n",
              "          dataTable['output_type'] = 'display_data';\n",
              "          await google.colab.output.renderOutput(dataTable, element);\n",
              "          const docLink = document.createElement('div');\n",
              "          docLink.innerHTML = docLinkHtml;\n",
              "          element.appendChild(docLink);\n",
              "        }\n",
              "      </script>\n",
              "    </div>\n",
              "  </div>\n",
              "  "
            ]
          },
          "metadata": {},
          "execution_count": 434
        }
      ]
    },
    {
      "cell_type": "code",
      "source": [
        "# # for unknown luxury expenses lets assume they are zero\n",
        "# train_test_df['RoomService'].fillna(0,inplace=True)\n",
        "# train_test_df['FoodCourt'].fillna(0,inplace=True)\n",
        "# train_test_df['ShoppingMall'].fillna(0,inplace=True)\n",
        "# train_test_df['Spa'].fillna(0,inplace=True)\n",
        "# train_test_df['VRDeck'].fillna(0,inplace=True)\n",
        "\n",
        "train_test_df[['RoomService','FoodCourt','ShoppingMall','Spa','VRDeck']].isna().sum()"
      ],
      "metadata": {
        "execution": {
          "iopub.status.busy": "2022-08-01T09:28:54.042274Z",
          "iopub.execute_input": "2022-08-01T09:28:54.042737Z",
          "iopub.status.idle": "2022-08-01T09:28:54.066928Z",
          "shell.execute_reply.started": "2022-08-01T09:28:54.042698Z",
          "shell.execute_reply": "2022-08-01T09:28:54.065715Z"
        },
        "trusted": true,
        "colab": {
          "base_uri": "https://localhost:8080/"
        },
        "id": "dbdwTINZ33vl",
        "outputId": "28fca123-c8b3-4ec9-a2cf-eb5e74bd7996"
      },
      "execution_count": 435,
      "outputs": [
        {
          "output_type": "execute_result",
          "data": {
            "text/plain": [
              "RoomService     0\n",
              "FoodCourt       0\n",
              "ShoppingMall    0\n",
              "Spa             0\n",
              "VRDeck          0\n",
              "dtype: int64"
            ]
          },
          "metadata": {},
          "execution_count": 435
        }
      ]
    },
    {
      "cell_type": "code",
      "source": [
        "# for the people we don't know if they are in cryo sleep or not lets assume there are not in cryo sleep\n",
        "train_test_df['CryoSleep'].fillna(False,inplace=True)\n",
        "\n",
        "# for the people we don't know if they are VIP or not lets assume there are not VIP\n",
        "train_test_df['VIP'].fillna(False,inplace=True)\n",
        "\n",
        "train_test_df[['CryoSleep','VIP']].isna().sum()"
      ],
      "metadata": {
        "execution": {
          "iopub.status.busy": "2022-08-01T09:28:54.622294Z",
          "iopub.execute_input": "2022-08-01T09:28:54.623016Z",
          "iopub.status.idle": "2022-08-01T09:28:54.642850Z",
          "shell.execute_reply.started": "2022-08-01T09:28:54.622966Z",
          "shell.execute_reply": "2022-08-01T09:28:54.641707Z"
        },
        "trusted": true,
        "colab": {
          "base_uri": "https://localhost:8080/"
        },
        "id": "QRTQ0HiY33vm",
        "outputId": "d66e8036-e3e8-4f8e-aef2-7bedf2ba1a71"
      },
      "execution_count": 436,
      "outputs": [
        {
          "output_type": "execute_result",
          "data": {
            "text/plain": [
              "CryoSleep    0\n",
              "VIP          0\n",
              "dtype: int64"
            ]
          },
          "metadata": {},
          "execution_count": 436
        }
      ]
    },
    {
      "cell_type": "code",
      "source": [
        "train_test_df[\"Destination\"].nunique(),train_test_df[\"Destination\"].unique()"
      ],
      "metadata": {
        "execution": {
          "iopub.status.busy": "2022-08-01T09:28:55.187425Z",
          "iopub.execute_input": "2022-08-01T09:28:55.187851Z",
          "iopub.status.idle": "2022-08-01T09:28:55.202307Z",
          "shell.execute_reply.started": "2022-08-01T09:28:55.187814Z",
          "shell.execute_reply": "2022-08-01T09:28:55.201048Z"
        },
        "trusted": true,
        "colab": {
          "base_uri": "https://localhost:8080/"
        },
        "id": "PbRY-KhN33vo",
        "outputId": "3ab671dc-6035-4181-b5be-4ad2fd3e2781"
      },
      "execution_count": 437,
      "outputs": [
        {
          "output_type": "execute_result",
          "data": {
            "text/plain": [
              "(3, array(['TRAPPIST-1e', 'PSO J318.5-22', '55 Cancri e', nan], dtype=object))"
            ]
          },
          "metadata": {},
          "execution_count": 437
        }
      ]
    },
    {
      "cell_type": "code",
      "source": [
        "train_test_df[[\"Destination\"]].describe()"
      ],
      "metadata": {
        "execution": {
          "iopub.status.busy": "2022-08-01T09:28:55.681802Z",
          "iopub.execute_input": "2022-08-01T09:28:55.682932Z",
          "iopub.status.idle": "2022-08-01T09:28:55.707962Z",
          "shell.execute_reply.started": "2022-08-01T09:28:55.682886Z",
          "shell.execute_reply": "2022-08-01T09:28:55.706597Z"
        },
        "trusted": true,
        "colab": {
          "base_uri": "https://localhost:8080/",
          "height": 175
        },
        "id": "bdZYL0aw33vp",
        "outputId": "04bb16b4-5160-4e56-90b4-e69fa36f5f6e"
      },
      "execution_count": 438,
      "outputs": [
        {
          "output_type": "execute_result",
          "data": {
            "text/plain": [
              "        Destination\n",
              "count         12696\n",
              "unique            3\n",
              "top     TRAPPIST-1e\n",
              "freq           8871"
            ],
            "text/html": [
              "\n",
              "  <div id=\"df-f1b73059-d2d5-4b60-8a4a-b82fc9cd6320\">\n",
              "    <div class=\"colab-df-container\">\n",
              "      <div>\n",
              "<style scoped>\n",
              "    .dataframe tbody tr th:only-of-type {\n",
              "        vertical-align: middle;\n",
              "    }\n",
              "\n",
              "    .dataframe tbody tr th {\n",
              "        vertical-align: top;\n",
              "    }\n",
              "\n",
              "    .dataframe thead th {\n",
              "        text-align: right;\n",
              "    }\n",
              "</style>\n",
              "<table border=\"1\" class=\"dataframe\">\n",
              "  <thead>\n",
              "    <tr style=\"text-align: right;\">\n",
              "      <th></th>\n",
              "      <th>Destination</th>\n",
              "    </tr>\n",
              "  </thead>\n",
              "  <tbody>\n",
              "    <tr>\n",
              "      <th>count</th>\n",
              "      <td>12696</td>\n",
              "    </tr>\n",
              "    <tr>\n",
              "      <th>unique</th>\n",
              "      <td>3</td>\n",
              "    </tr>\n",
              "    <tr>\n",
              "      <th>top</th>\n",
              "      <td>TRAPPIST-1e</td>\n",
              "    </tr>\n",
              "    <tr>\n",
              "      <th>freq</th>\n",
              "      <td>8871</td>\n",
              "    </tr>\n",
              "  </tbody>\n",
              "</table>\n",
              "</div>\n",
              "      <button class=\"colab-df-convert\" onclick=\"convertToInteractive('df-f1b73059-d2d5-4b60-8a4a-b82fc9cd6320')\"\n",
              "              title=\"Convert this dataframe to an interactive table.\"\n",
              "              style=\"display:none;\">\n",
              "        \n",
              "  <svg xmlns=\"http://www.w3.org/2000/svg\" height=\"24px\"viewBox=\"0 0 24 24\"\n",
              "       width=\"24px\">\n",
              "    <path d=\"M0 0h24v24H0V0z\" fill=\"none\"/>\n",
              "    <path d=\"M18.56 5.44l.94 2.06.94-2.06 2.06-.94-2.06-.94-.94-2.06-.94 2.06-2.06.94zm-11 1L8.5 8.5l.94-2.06 2.06-.94-2.06-.94L8.5 2.5l-.94 2.06-2.06.94zm10 10l.94 2.06.94-2.06 2.06-.94-2.06-.94-.94-2.06-.94 2.06-2.06.94z\"/><path d=\"M17.41 7.96l-1.37-1.37c-.4-.4-.92-.59-1.43-.59-.52 0-1.04.2-1.43.59L10.3 9.45l-7.72 7.72c-.78.78-.78 2.05 0 2.83L4 21.41c.39.39.9.59 1.41.59.51 0 1.02-.2 1.41-.59l7.78-7.78 2.81-2.81c.8-.78.8-2.07 0-2.86zM5.41 20L4 18.59l7.72-7.72 1.47 1.35L5.41 20z\"/>\n",
              "  </svg>\n",
              "      </button>\n",
              "      \n",
              "  <style>\n",
              "    .colab-df-container {\n",
              "      display:flex;\n",
              "      flex-wrap:wrap;\n",
              "      gap: 12px;\n",
              "    }\n",
              "\n",
              "    .colab-df-convert {\n",
              "      background-color: #E8F0FE;\n",
              "      border: none;\n",
              "      border-radius: 50%;\n",
              "      cursor: pointer;\n",
              "      display: none;\n",
              "      fill: #1967D2;\n",
              "      height: 32px;\n",
              "      padding: 0 0 0 0;\n",
              "      width: 32px;\n",
              "    }\n",
              "\n",
              "    .colab-df-convert:hover {\n",
              "      background-color: #E2EBFA;\n",
              "      box-shadow: 0px 1px 2px rgba(60, 64, 67, 0.3), 0px 1px 3px 1px rgba(60, 64, 67, 0.15);\n",
              "      fill: #174EA6;\n",
              "    }\n",
              "\n",
              "    [theme=dark] .colab-df-convert {\n",
              "      background-color: #3B4455;\n",
              "      fill: #D2E3FC;\n",
              "    }\n",
              "\n",
              "    [theme=dark] .colab-df-convert:hover {\n",
              "      background-color: #434B5C;\n",
              "      box-shadow: 0px 1px 3px 1px rgba(0, 0, 0, 0.15);\n",
              "      filter: drop-shadow(0px 1px 2px rgba(0, 0, 0, 0.3));\n",
              "      fill: #FFFFFF;\n",
              "    }\n",
              "  </style>\n",
              "\n",
              "      <script>\n",
              "        const buttonEl =\n",
              "          document.querySelector('#df-f1b73059-d2d5-4b60-8a4a-b82fc9cd6320 button.colab-df-convert');\n",
              "        buttonEl.style.display =\n",
              "          google.colab.kernel.accessAllowed ? 'block' : 'none';\n",
              "\n",
              "        async function convertToInteractive(key) {\n",
              "          const element = document.querySelector('#df-f1b73059-d2d5-4b60-8a4a-b82fc9cd6320');\n",
              "          const dataTable =\n",
              "            await google.colab.kernel.invokeFunction('convertToInteractive',\n",
              "                                                     [key], {});\n",
              "          if (!dataTable) return;\n",
              "\n",
              "          const docLinkHtml = 'Like what you see? Visit the ' +\n",
              "            '<a target=\"_blank\" href=https://colab.research.google.com/notebooks/data_table.ipynb>data table notebook</a>'\n",
              "            + ' to learn more about interactive tables.';\n",
              "          element.innerHTML = '';\n",
              "          dataTable['output_type'] = 'display_data';\n",
              "          await google.colab.output.renderOutput(dataTable, element);\n",
              "          const docLink = document.createElement('div');\n",
              "          docLink.innerHTML = docLinkHtml;\n",
              "          element.appendChild(docLink);\n",
              "        }\n",
              "      </script>\n",
              "    </div>\n",
              "  </div>\n",
              "  "
            ]
          },
          "metadata": {},
          "execution_count": 438
        }
      ]
    },
    {
      "cell_type": "code",
      "source": [
        "# let the unknown age be age from the middle\n",
        "train_test_df['Age'].fillna(train_test_df['Age'].median(),inplace=True)\n",
        "# we used the mode as these people are probably going to the same where most people are going to\n",
        "train_test_df['Destination'].fillna(train_test_df['Destination'].mode()[0],inplace=True)\n",
        "train_test_df[\"HomePlanet\"].fillna(train_test_df['HomePlanet'].mode()[0],inplace=True)\n",
        "train_test_df[['Age','Destination','HomePlanet']].isna().sum()"
      ],
      "metadata": {
        "execution": {
          "iopub.status.busy": "2022-08-01T09:28:56.142406Z",
          "iopub.execute_input": "2022-08-01T09:28:56.143155Z",
          "iopub.status.idle": "2022-08-01T09:28:56.173086Z",
          "shell.execute_reply.started": "2022-08-01T09:28:56.143115Z",
          "shell.execute_reply": "2022-08-01T09:28:56.171883Z"
        },
        "trusted": true,
        "colab": {
          "base_uri": "https://localhost:8080/"
        },
        "id": "I02Qzf4333vq",
        "outputId": "be7e3f1d-d2fe-4e36-fa4f-98b8de4c4404"
      },
      "execution_count": 439,
      "outputs": [
        {
          "output_type": "execute_result",
          "data": {
            "text/plain": [
              "Age            0\n",
              "Destination    0\n",
              "HomePlanet     0\n",
              "dtype: int64"
            ]
          },
          "metadata": {},
          "execution_count": 439
        }
      ]
    },
    {
      "cell_type": "code",
      "source": [
        "# for nan in Cabin Unknown deck/0/Unknown side\n",
        "train_test_df['Cabin'].fillna(\"U/0/U\",inplace=True)\n",
        "train_test_df[['Cabin']].isna().sum()"
      ],
      "metadata": {
        "execution": {
          "iopub.status.busy": "2022-08-01T09:28:56.671890Z",
          "iopub.execute_input": "2022-08-01T09:28:56.672494Z",
          "iopub.status.idle": "2022-08-01T09:28:56.683547Z",
          "shell.execute_reply.started": "2022-08-01T09:28:56.672457Z",
          "shell.execute_reply": "2022-08-01T09:28:56.682700Z"
        },
        "trusted": true,
        "colab": {
          "base_uri": "https://localhost:8080/"
        },
        "id": "hMu44OoG33vr",
        "outputId": "9cc9384d-04f5-4d72-d9bc-bc398a27be8c"
      },
      "execution_count": 440,
      "outputs": [
        {
          "output_type": "execute_result",
          "data": {
            "text/plain": [
              "Cabin    0\n",
              "dtype: int64"
            ]
          },
          "metadata": {},
          "execution_count": 440
        }
      ]
    },
    {
      "cell_type": "code",
      "source": [
        "# name = last name and for nan ,name = unknown\n",
        "train_test_df['Name']=train_test_df['Name'].map(lambda x: x.split(' ',1)[1] if pd.notnull(x) else 'unknown')\n",
        "train_test_df[['Name']].isna().sum()"
      ],
      "metadata": {
        "execution": {
          "iopub.status.busy": "2022-08-01T09:28:57.212560Z",
          "iopub.execute_input": "2022-08-01T09:28:57.213358Z",
          "iopub.status.idle": "2022-08-01T09:28:57.243150Z",
          "shell.execute_reply.started": "2022-08-01T09:28:57.213320Z",
          "shell.execute_reply": "2022-08-01T09:28:57.241919Z"
        },
        "trusted": true,
        "colab": {
          "base_uri": "https://localhost:8080/"
        },
        "id": "Ive46N_Y33vt",
        "outputId": "bc25fa15-ef7f-4d40-9121-74c81c205350"
      },
      "execution_count": 441,
      "outputs": [
        {
          "output_type": "execute_result",
          "data": {
            "text/plain": [
              "Name    0\n",
              "dtype: int64"
            ]
          },
          "metadata": {},
          "execution_count": 441
        }
      ]
    },
    {
      "cell_type": "code",
      "source": [
        "train_test_df.isna().sum()"
      ],
      "metadata": {
        "execution": {
          "iopub.status.busy": "2022-08-01T09:28:57.716843Z",
          "iopub.execute_input": "2022-08-01T09:28:57.717358Z",
          "iopub.status.idle": "2022-08-01T09:28:57.737352Z",
          "shell.execute_reply.started": "2022-08-01T09:28:57.717308Z",
          "shell.execute_reply": "2022-08-01T09:28:57.736037Z"
        },
        "trusted": true,
        "colab": {
          "base_uri": "https://localhost:8080/"
        },
        "id": "TvjCgzqZ33vt",
        "outputId": "40294f6a-5a72-41a3-9b4c-b6a50d08623c"
      },
      "execution_count": 442,
      "outputs": [
        {
          "output_type": "execute_result",
          "data": {
            "text/plain": [
              "PassengerId        0\n",
              "HomePlanet         0\n",
              "CryoSleep          0\n",
              "Cabin              0\n",
              "Destination        0\n",
              "Age                0\n",
              "VIP                0\n",
              "RoomService        0\n",
              "FoodCourt          0\n",
              "ShoppingMall       0\n",
              "Spa                0\n",
              "VRDeck             0\n",
              "Name               0\n",
              "Transported     4277\n",
              "dtype: int64"
            ]
          },
          "metadata": {},
          "execution_count": 442
        }
      ]
    },
    {
      "cell_type": "markdown",
      "source": [
        "# Feature Engineering"
      ],
      "metadata": {
        "id": "Qz1faip-33vu"
      }
    },
    {
      "cell_type": "code",
      "source": [
        "# passenger id = passenger group\n",
        "train_test_df['PassengerId']=train_test_df['PassengerId'].map(lambda x:x.split('_',1)[0])"
      ],
      "metadata": {
        "execution": {
          "iopub.status.busy": "2022-08-01T09:28:58.202065Z",
          "iopub.execute_input": "2022-08-01T09:28:58.202463Z",
          "iopub.status.idle": "2022-08-01T09:28:58.214371Z",
          "shell.execute_reply.started": "2022-08-01T09:28:58.202430Z",
          "shell.execute_reply": "2022-08-01T09:28:58.212926Z"
        },
        "trusted": true,
        "id": "2ICWD40K33vx"
      },
      "execution_count": 443,
      "outputs": []
    },
    {
      "cell_type": "code",
      "source": [
        "train_test_df['deck']=train_test_df['Cabin'].map(lambda x: x.split('/')[0])\n",
        "train_test_df['room_num']=train_test_df['Cabin'].map(lambda x: x.split('/')[1])\n",
        "train_test_df['room_num'] = train_test_df['room_num']\n",
        "train_test_df['room_side']=train_test_df['Cabin'].map(lambda x: x.split('/')[2])\n",
        "\n",
        "train_test_df"
      ],
      "metadata": {
        "execution": {
          "iopub.status.busy": "2022-08-01T09:28:59.892311Z",
          "iopub.execute_input": "2022-08-01T09:28:59.892731Z",
          "iopub.status.idle": "2022-08-01T09:28:59.971877Z",
          "shell.execute_reply.started": "2022-08-01T09:28:59.892693Z",
          "shell.execute_reply": "2022-08-01T09:28:59.970762Z"
        },
        "trusted": true,
        "colab": {
          "base_uri": "https://localhost:8080/",
          "height": 468
        },
        "id": "CcY7os7j33vz",
        "outputId": "6f33101d-6d36-4ce8-fd60-a5885e68e1f5"
      },
      "execution_count": 445,
      "outputs": [
        {
          "output_type": "execute_result",
          "data": {
            "text/plain": [
              "     PassengerId HomePlanet  CryoSleep     Cabin    Destination   Age    VIP  \\\n",
              "0           0001     Europa      False     B/0/P    TRAPPIST-1e  39.0  False   \n",
              "1           0002      Earth      False     F/0/S    TRAPPIST-1e  24.0  False   \n",
              "2           0003     Europa      False     A/0/S    TRAPPIST-1e  58.0   True   \n",
              "3           0003     Europa      False     A/0/S    TRAPPIST-1e  33.0  False   \n",
              "4           0004      Earth      False     F/1/S    TRAPPIST-1e  16.0  False   \n",
              "...          ...        ...        ...       ...            ...   ...    ...   \n",
              "4272        9266      Earth       True  G/1496/S    TRAPPIST-1e  34.0  False   \n",
              "4273        9269      Earth      False     U/0/U    TRAPPIST-1e  42.0  False   \n",
              "4274        9271       Mars       True   D/296/P    55 Cancri e  27.0  False   \n",
              "4275        9273     Europa      False   D/297/P    TRAPPIST-1e  27.0  False   \n",
              "4276        9277      Earth       True  G/1498/S  PSO J318.5-22  43.0  False   \n",
              "\n",
              "      RoomService  FoodCourt  ShoppingMall     Spa  VRDeck         Name  \\\n",
              "0             0.0        0.0           0.0     0.0     0.0    Ofracculy   \n",
              "1           109.0        9.0          25.0   549.0    44.0        Vines   \n",
              "2            43.0     3576.0           0.0  6715.0    49.0       Susent   \n",
              "3             0.0     1283.0         371.0  3329.0   193.0       Susent   \n",
              "4           303.0       70.0         151.0   565.0     2.0  Santantines   \n",
              "...           ...        ...           ...     ...     ...          ...   \n",
              "4272          0.0        0.0           0.0     0.0     0.0        Peter   \n",
              "4273          0.0      847.0          17.0    10.0   144.0      Scheron   \n",
              "4274          0.0        0.0           0.0     0.0     0.0         Pore   \n",
              "4275          0.0     2680.0           0.0     0.0   523.0       Conale   \n",
              "4276          0.0        0.0           0.0     0.0     0.0    Leonzaley   \n",
              "\n",
              "     Transported deck room_num room_side  \n",
              "0          False    B        0         P  \n",
              "1           True    F        0         S  \n",
              "2          False    A        0         S  \n",
              "3          False    A        0         S  \n",
              "4           True    F        1         S  \n",
              "...          ...  ...      ...       ...  \n",
              "4272         NaN    G     1496         S  \n",
              "4273         NaN    U        0         U  \n",
              "4274         NaN    D      296         P  \n",
              "4275         NaN    D      297         P  \n",
              "4276         NaN    G     1498         S  \n",
              "\n",
              "[12970 rows x 17 columns]"
            ],
            "text/html": [
              "\n",
              "  <div id=\"df-7f415696-5967-4221-90a6-d97388c770b7\">\n",
              "    <div class=\"colab-df-container\">\n",
              "      <div>\n",
              "<style scoped>\n",
              "    .dataframe tbody tr th:only-of-type {\n",
              "        vertical-align: middle;\n",
              "    }\n",
              "\n",
              "    .dataframe tbody tr th {\n",
              "        vertical-align: top;\n",
              "    }\n",
              "\n",
              "    .dataframe thead th {\n",
              "        text-align: right;\n",
              "    }\n",
              "</style>\n",
              "<table border=\"1\" class=\"dataframe\">\n",
              "  <thead>\n",
              "    <tr style=\"text-align: right;\">\n",
              "      <th></th>\n",
              "      <th>PassengerId</th>\n",
              "      <th>HomePlanet</th>\n",
              "      <th>CryoSleep</th>\n",
              "      <th>Cabin</th>\n",
              "      <th>Destination</th>\n",
              "      <th>Age</th>\n",
              "      <th>VIP</th>\n",
              "      <th>RoomService</th>\n",
              "      <th>FoodCourt</th>\n",
              "      <th>ShoppingMall</th>\n",
              "      <th>Spa</th>\n",
              "      <th>VRDeck</th>\n",
              "      <th>Name</th>\n",
              "      <th>Transported</th>\n",
              "      <th>deck</th>\n",
              "      <th>room_num</th>\n",
              "      <th>room_side</th>\n",
              "    </tr>\n",
              "  </thead>\n",
              "  <tbody>\n",
              "    <tr>\n",
              "      <th>0</th>\n",
              "      <td>0001</td>\n",
              "      <td>Europa</td>\n",
              "      <td>False</td>\n",
              "      <td>B/0/P</td>\n",
              "      <td>TRAPPIST-1e</td>\n",
              "      <td>39.0</td>\n",
              "      <td>False</td>\n",
              "      <td>0.0</td>\n",
              "      <td>0.0</td>\n",
              "      <td>0.0</td>\n",
              "      <td>0.0</td>\n",
              "      <td>0.0</td>\n",
              "      <td>Ofracculy</td>\n",
              "      <td>False</td>\n",
              "      <td>B</td>\n",
              "      <td>0</td>\n",
              "      <td>P</td>\n",
              "    </tr>\n",
              "    <tr>\n",
              "      <th>1</th>\n",
              "      <td>0002</td>\n",
              "      <td>Earth</td>\n",
              "      <td>False</td>\n",
              "      <td>F/0/S</td>\n",
              "      <td>TRAPPIST-1e</td>\n",
              "      <td>24.0</td>\n",
              "      <td>False</td>\n",
              "      <td>109.0</td>\n",
              "      <td>9.0</td>\n",
              "      <td>25.0</td>\n",
              "      <td>549.0</td>\n",
              "      <td>44.0</td>\n",
              "      <td>Vines</td>\n",
              "      <td>True</td>\n",
              "      <td>F</td>\n",
              "      <td>0</td>\n",
              "      <td>S</td>\n",
              "    </tr>\n",
              "    <tr>\n",
              "      <th>2</th>\n",
              "      <td>0003</td>\n",
              "      <td>Europa</td>\n",
              "      <td>False</td>\n",
              "      <td>A/0/S</td>\n",
              "      <td>TRAPPIST-1e</td>\n",
              "      <td>58.0</td>\n",
              "      <td>True</td>\n",
              "      <td>43.0</td>\n",
              "      <td>3576.0</td>\n",
              "      <td>0.0</td>\n",
              "      <td>6715.0</td>\n",
              "      <td>49.0</td>\n",
              "      <td>Susent</td>\n",
              "      <td>False</td>\n",
              "      <td>A</td>\n",
              "      <td>0</td>\n",
              "      <td>S</td>\n",
              "    </tr>\n",
              "    <tr>\n",
              "      <th>3</th>\n",
              "      <td>0003</td>\n",
              "      <td>Europa</td>\n",
              "      <td>False</td>\n",
              "      <td>A/0/S</td>\n",
              "      <td>TRAPPIST-1e</td>\n",
              "      <td>33.0</td>\n",
              "      <td>False</td>\n",
              "      <td>0.0</td>\n",
              "      <td>1283.0</td>\n",
              "      <td>371.0</td>\n",
              "      <td>3329.0</td>\n",
              "      <td>193.0</td>\n",
              "      <td>Susent</td>\n",
              "      <td>False</td>\n",
              "      <td>A</td>\n",
              "      <td>0</td>\n",
              "      <td>S</td>\n",
              "    </tr>\n",
              "    <tr>\n",
              "      <th>4</th>\n",
              "      <td>0004</td>\n",
              "      <td>Earth</td>\n",
              "      <td>False</td>\n",
              "      <td>F/1/S</td>\n",
              "      <td>TRAPPIST-1e</td>\n",
              "      <td>16.0</td>\n",
              "      <td>False</td>\n",
              "      <td>303.0</td>\n",
              "      <td>70.0</td>\n",
              "      <td>151.0</td>\n",
              "      <td>565.0</td>\n",
              "      <td>2.0</td>\n",
              "      <td>Santantines</td>\n",
              "      <td>True</td>\n",
              "      <td>F</td>\n",
              "      <td>1</td>\n",
              "      <td>S</td>\n",
              "    </tr>\n",
              "    <tr>\n",
              "      <th>...</th>\n",
              "      <td>...</td>\n",
              "      <td>...</td>\n",
              "      <td>...</td>\n",
              "      <td>...</td>\n",
              "      <td>...</td>\n",
              "      <td>...</td>\n",
              "      <td>...</td>\n",
              "      <td>...</td>\n",
              "      <td>...</td>\n",
              "      <td>...</td>\n",
              "      <td>...</td>\n",
              "      <td>...</td>\n",
              "      <td>...</td>\n",
              "      <td>...</td>\n",
              "      <td>...</td>\n",
              "      <td>...</td>\n",
              "      <td>...</td>\n",
              "    </tr>\n",
              "    <tr>\n",
              "      <th>4272</th>\n",
              "      <td>9266</td>\n",
              "      <td>Earth</td>\n",
              "      <td>True</td>\n",
              "      <td>G/1496/S</td>\n",
              "      <td>TRAPPIST-1e</td>\n",
              "      <td>34.0</td>\n",
              "      <td>False</td>\n",
              "      <td>0.0</td>\n",
              "      <td>0.0</td>\n",
              "      <td>0.0</td>\n",
              "      <td>0.0</td>\n",
              "      <td>0.0</td>\n",
              "      <td>Peter</td>\n",
              "      <td>NaN</td>\n",
              "      <td>G</td>\n",
              "      <td>1496</td>\n",
              "      <td>S</td>\n",
              "    </tr>\n",
              "    <tr>\n",
              "      <th>4273</th>\n",
              "      <td>9269</td>\n",
              "      <td>Earth</td>\n",
              "      <td>False</td>\n",
              "      <td>U/0/U</td>\n",
              "      <td>TRAPPIST-1e</td>\n",
              "      <td>42.0</td>\n",
              "      <td>False</td>\n",
              "      <td>0.0</td>\n",
              "      <td>847.0</td>\n",
              "      <td>17.0</td>\n",
              "      <td>10.0</td>\n",
              "      <td>144.0</td>\n",
              "      <td>Scheron</td>\n",
              "      <td>NaN</td>\n",
              "      <td>U</td>\n",
              "      <td>0</td>\n",
              "      <td>U</td>\n",
              "    </tr>\n",
              "    <tr>\n",
              "      <th>4274</th>\n",
              "      <td>9271</td>\n",
              "      <td>Mars</td>\n",
              "      <td>True</td>\n",
              "      <td>D/296/P</td>\n",
              "      <td>55 Cancri e</td>\n",
              "      <td>27.0</td>\n",
              "      <td>False</td>\n",
              "      <td>0.0</td>\n",
              "      <td>0.0</td>\n",
              "      <td>0.0</td>\n",
              "      <td>0.0</td>\n",
              "      <td>0.0</td>\n",
              "      <td>Pore</td>\n",
              "      <td>NaN</td>\n",
              "      <td>D</td>\n",
              "      <td>296</td>\n",
              "      <td>P</td>\n",
              "    </tr>\n",
              "    <tr>\n",
              "      <th>4275</th>\n",
              "      <td>9273</td>\n",
              "      <td>Europa</td>\n",
              "      <td>False</td>\n",
              "      <td>D/297/P</td>\n",
              "      <td>TRAPPIST-1e</td>\n",
              "      <td>27.0</td>\n",
              "      <td>False</td>\n",
              "      <td>0.0</td>\n",
              "      <td>2680.0</td>\n",
              "      <td>0.0</td>\n",
              "      <td>0.0</td>\n",
              "      <td>523.0</td>\n",
              "      <td>Conale</td>\n",
              "      <td>NaN</td>\n",
              "      <td>D</td>\n",
              "      <td>297</td>\n",
              "      <td>P</td>\n",
              "    </tr>\n",
              "    <tr>\n",
              "      <th>4276</th>\n",
              "      <td>9277</td>\n",
              "      <td>Earth</td>\n",
              "      <td>True</td>\n",
              "      <td>G/1498/S</td>\n",
              "      <td>PSO J318.5-22</td>\n",
              "      <td>43.0</td>\n",
              "      <td>False</td>\n",
              "      <td>0.0</td>\n",
              "      <td>0.0</td>\n",
              "      <td>0.0</td>\n",
              "      <td>0.0</td>\n",
              "      <td>0.0</td>\n",
              "      <td>Leonzaley</td>\n",
              "      <td>NaN</td>\n",
              "      <td>G</td>\n",
              "      <td>1498</td>\n",
              "      <td>S</td>\n",
              "    </tr>\n",
              "  </tbody>\n",
              "</table>\n",
              "<p>12970 rows × 17 columns</p>\n",
              "</div>\n",
              "      <button class=\"colab-df-convert\" onclick=\"convertToInteractive('df-7f415696-5967-4221-90a6-d97388c770b7')\"\n",
              "              title=\"Convert this dataframe to an interactive table.\"\n",
              "              style=\"display:none;\">\n",
              "        \n",
              "  <svg xmlns=\"http://www.w3.org/2000/svg\" height=\"24px\"viewBox=\"0 0 24 24\"\n",
              "       width=\"24px\">\n",
              "    <path d=\"M0 0h24v24H0V0z\" fill=\"none\"/>\n",
              "    <path d=\"M18.56 5.44l.94 2.06.94-2.06 2.06-.94-2.06-.94-.94-2.06-.94 2.06-2.06.94zm-11 1L8.5 8.5l.94-2.06 2.06-.94-2.06-.94L8.5 2.5l-.94 2.06-2.06.94zm10 10l.94 2.06.94-2.06 2.06-.94-2.06-.94-.94-2.06-.94 2.06-2.06.94z\"/><path d=\"M17.41 7.96l-1.37-1.37c-.4-.4-.92-.59-1.43-.59-.52 0-1.04.2-1.43.59L10.3 9.45l-7.72 7.72c-.78.78-.78 2.05 0 2.83L4 21.41c.39.39.9.59 1.41.59.51 0 1.02-.2 1.41-.59l7.78-7.78 2.81-2.81c.8-.78.8-2.07 0-2.86zM5.41 20L4 18.59l7.72-7.72 1.47 1.35L5.41 20z\"/>\n",
              "  </svg>\n",
              "      </button>\n",
              "      \n",
              "  <style>\n",
              "    .colab-df-container {\n",
              "      display:flex;\n",
              "      flex-wrap:wrap;\n",
              "      gap: 12px;\n",
              "    }\n",
              "\n",
              "    .colab-df-convert {\n",
              "      background-color: #E8F0FE;\n",
              "      border: none;\n",
              "      border-radius: 50%;\n",
              "      cursor: pointer;\n",
              "      display: none;\n",
              "      fill: #1967D2;\n",
              "      height: 32px;\n",
              "      padding: 0 0 0 0;\n",
              "      width: 32px;\n",
              "    }\n",
              "\n",
              "    .colab-df-convert:hover {\n",
              "      background-color: #E2EBFA;\n",
              "      box-shadow: 0px 1px 2px rgba(60, 64, 67, 0.3), 0px 1px 3px 1px rgba(60, 64, 67, 0.15);\n",
              "      fill: #174EA6;\n",
              "    }\n",
              "\n",
              "    [theme=dark] .colab-df-convert {\n",
              "      background-color: #3B4455;\n",
              "      fill: #D2E3FC;\n",
              "    }\n",
              "\n",
              "    [theme=dark] .colab-df-convert:hover {\n",
              "      background-color: #434B5C;\n",
              "      box-shadow: 0px 1px 3px 1px rgba(0, 0, 0, 0.15);\n",
              "      filter: drop-shadow(0px 1px 2px rgba(0, 0, 0, 0.3));\n",
              "      fill: #FFFFFF;\n",
              "    }\n",
              "  </style>\n",
              "\n",
              "      <script>\n",
              "        const buttonEl =\n",
              "          document.querySelector('#df-7f415696-5967-4221-90a6-d97388c770b7 button.colab-df-convert');\n",
              "        buttonEl.style.display =\n",
              "          google.colab.kernel.accessAllowed ? 'block' : 'none';\n",
              "\n",
              "        async function convertToInteractive(key) {\n",
              "          const element = document.querySelector('#df-7f415696-5967-4221-90a6-d97388c770b7');\n",
              "          const dataTable =\n",
              "            await google.colab.kernel.invokeFunction('convertToInteractive',\n",
              "                                                     [key], {});\n",
              "          if (!dataTable) return;\n",
              "\n",
              "          const docLinkHtml = 'Like what you see? Visit the ' +\n",
              "            '<a target=\"_blank\" href=https://colab.research.google.com/notebooks/data_table.ipynb>data table notebook</a>'\n",
              "            + ' to learn more about interactive tables.';\n",
              "          element.innerHTML = '';\n",
              "          dataTable['output_type'] = 'display_data';\n",
              "          await google.colab.output.renderOutput(dataTable, element);\n",
              "          const docLink = document.createElement('div');\n",
              "          docLink.innerHTML = docLinkHtml;\n",
              "          element.appendChild(docLink);\n",
              "        }\n",
              "      </script>\n",
              "    </div>\n",
              "  </div>\n",
              "  "
            ]
          },
          "metadata": {},
          "execution_count": 445
        }
      ]
    },
    {
      "cell_type": "code",
      "source": [
        "# creating isAlone feature\n",
        "upids=list(train_test_df['PassengerId'].unique())\n",
        "upid_dict={upid:0 for upid in upids}\n",
        "for upid in upid_dict.keys():\n",
        "  upid_dict[upid]=(train_test_df['PassengerId']==upid).sum()\n",
        "\n",
        "isAlone=[]\n",
        "for pid in train_test_df['PassengerId']:\n",
        "  # group_size=(train_test_df['PassengerId']==pid).sum()\n",
        "  group_size=upid_dict[pid]\n",
        "  if group_size==1:\n",
        "    isAlone.append(True)\n",
        "  else:\n",
        "    isAlone.append(False)\n",
        "    # print(group_size)\n",
        "train_test_df['isAlone']=isAlone"
      ],
      "metadata": {
        "id": "s15GNdNV7SEk"
      },
      "execution_count": 446,
      "outputs": []
    },
    {
      "cell_type": "code",
      "source": [
        "amenity_cols = ['RoomService', 'FoodCourt', 'ShoppingMall', 'Spa', 'VRDeck']\n",
        "train_test_df ['Spending'] = train_test_df[amenity_cols].sum(axis=1)>0"
      ],
      "metadata": {
        "id": "esMMxaC1Bbzh"
      },
      "execution_count": 447,
      "outputs": []
    },
    {
      "cell_type": "code",
      "source": [
        "def convert_to_dummies(df):\n",
        "    df = pd.get_dummies(df, columns=['Destination'], prefix=\"D\")\n",
        "    df = pd.get_dummies(df, columns=['HomePlanet'], prefix=\"H\")\n",
        "    df = pd.get_dummies(df, columns=['room_side'])\n",
        "    df = pd.get_dummies(df, columns=['VIP'])\n",
        "    df = pd.get_dummies(df, columns=['CryoSleep'])\n",
        "    df = pd.get_dummies(df, columns=['deck'])\n",
        "    # df = pd.get_dummies(df, columns=['isAlone'])\n",
        "    # df = pd.get_dummies(df, columns=['Spending'])\n",
        "#     df = pd.get_dummies(df, columns=['Name'])\n",
        "  \n",
        "    return df\n",
        "# train_test_df=convert_to_dummies(train_test_df)"
      ],
      "metadata": {
        "execution": {
          "iopub.status.busy": "2022-08-01T09:29:02.379232Z",
          "iopub.execute_input": "2022-08-01T09:29:02.379879Z",
          "iopub.status.idle": "2022-08-01T09:29:02.437683Z",
          "shell.execute_reply.started": "2022-08-01T09:29:02.379842Z",
          "shell.execute_reply": "2022-08-01T09:29:02.436729Z"
        },
        "trusted": true,
        "id": "tgkykyc_33v1"
      },
      "execution_count": 448,
      "outputs": []
    },
    {
      "cell_type": "code",
      "source": [
        "# train_test_df.drop(['Cabin','isAlone','Name','Spending'],inplace=True,axis=1)\n",
        "# train_test_df.drop(['Cabin','Name'],inplace=True,axis=1)\n",
        "train_test_df.drop(['Cabin'],inplace=True,axis=1)"
      ],
      "metadata": {
        "id": "RdJUZpUnHZEe"
      },
      "execution_count": 449,
      "outputs": []
    },
    {
      "cell_type": "code",
      "source": [
        "import seaborn as sns\n",
        "import matplotlib.pyplot as plt\n",
        "\n",
        "\n",
        "matrix = train_test_df.corr().round(2)\n",
        "plt.figure(figsize=(17,15))\n",
        "sns.heatmap(matrix, annot=True)\n",
        "plt.show()"
      ],
      "metadata": {
        "colab": {
          "base_uri": "https://localhost:8080/",
          "height": 867
        },
        "id": "s8X0JgeI5YLD",
        "outputId": "947b845a-bf61-43eb-9bc0-7ca36d5d6d0a"
      },
      "execution_count": 450,
      "outputs": [
        {
          "output_type": "display_data",
          "data": {
            "text/plain": [
              "<Figure size 1224x1080 with 2 Axes>"
            ],
            "image/png": "[encoded data removed]"
          },
          "metadata": {
            "needs_background": "light"
          }
        }
      ]
    },
    {
      "cell_type": "code",
      "source": [
        "train_df=train_test_df[:train_len]\n",
        "test_df=train_test_df[train_len:]\n",
        "test_df=test_df.drop('Transported',axis=1)\n",
        "\n",
        "# train_df=train_df.drop(['RoomService', 'FoodCourt','ShoppingMall','Spa','VRDeck'],axis=1)\n",
        "# test_df=test_df.drop(['RoomService', 'FoodCourt','ShoppingMall','Spa','VRDeck'],axis=1)"
      ],
      "metadata": {
        "execution": {
          "iopub.status.busy": "2022-08-01T09:29:03.182288Z",
          "iopub.execute_input": "2022-08-01T09:29:03.182734Z",
          "iopub.status.idle": "2022-08-01T09:29:03.192405Z",
          "shell.execute_reply.started": "2022-08-01T09:29:03.182691Z",
          "shell.execute_reply": "2022-08-01T09:29:03.191099Z"
        },
        "trusted": true,
        "id": "3jUxSFOB33v1"
      },
      "execution_count": 451,
      "outputs": []
    },
    {
      "cell_type": "code",
      "source": [
        ""
      ],
      "metadata": {
        "trusted": true,
        "id": "ZP4NawmL33v1"
      },
      "execution_count": 451,
      "outputs": []
    },
    {
      "cell_type": "code",
      "source": [
        "from fastai.tabular.all import *"
      ],
      "metadata": {
        "execution": {
          "iopub.status.busy": "2022-08-01T09:29:04.192438Z",
          "iopub.execute_input": "2022-08-01T09:29:04.193332Z",
          "iopub.status.idle": "2022-08-01T09:29:06.882639Z",
          "shell.execute_reply.started": "2022-08-01T09:29:04.193274Z",
          "shell.execute_reply": "2022-08-01T09:29:06.881562Z"
        },
        "trusted": true,
        "id": "RyVD3Yjp33v2"
      },
      "execution_count": 452,
      "outputs": []
    },
    {
      "cell_type": "code",
      "source": [
        "dep_var = 'Transported'\n",
        "# categorical_cols=['PassengerId','HomePlanet','CryoSleep','Destination','VIP','Name','deck','room_num','room_side']\n",
        "# cont_cols = ['Age', 'RoomService', 'FoodCourt','ShoppingMall','Spa','VRDeck']\n",
        "cont_cols, categorical_cols = cont_cat_split(train_df, dep_var=dep_var)\n",
        "# cont_cols = ['Age']\n",
        "procs = [Categorify, Normalize]\n",
        "categorical_cols"
      ],
      "metadata": {
        "execution": {
          "iopub.status.busy": "2022-08-01T09:29:06.884674Z",
          "iopub.execute_input": "2022-08-01T09:29:06.885219Z",
          "iopub.status.idle": "2022-08-01T09:29:06.897337Z",
          "shell.execute_reply.started": "2022-08-01T09:29:06.885177Z",
          "shell.execute_reply": "2022-08-01T09:29:06.896508Z"
        },
        "trusted": true,
        "colab": {
          "base_uri": "https://localhost:8080/"
        },
        "id": "c48dd0fZ33v2",
        "outputId": "b21e4a97-4681-4656-88f4-069e8532d9bd"
      },
      "execution_count": 453,
      "outputs": [
        {
          "output_type": "execute_result",
          "data": {
            "text/plain": [
              "['PassengerId',\n",
              " 'HomePlanet',\n",
              " 'CryoSleep',\n",
              " 'Destination',\n",
              " 'VIP',\n",
              " 'Name',\n",
              " 'deck',\n",
              " 'room_num',\n",
              " 'room_side',\n",
              " 'isAlone',\n",
              " 'Spending']"
            ]
          },
          "metadata": {},
          "execution_count": 453
        }
      ]
    },
    {
      "cell_type": "code",
      "source": [
        "dls=TabularDataLoaders.from_df(train_df,\n",
        "                               procs=procs,\n",
        "                               cat_names=categorical_cols,\n",
        "                               cont_names=cont_cols,\n",
        "                               y_names=dep_var, \n",
        "                               y_block=CategoryBlock(),\n",
        "                               splits=RandomSplitter(valid_pct=0.2)(train_df),\n",
        "                               bs=64)"
      ],
      "metadata": {
        "execution": {
          "iopub.status.busy": "2022-08-01T09:29:06.898728Z",
          "iopub.execute_input": "2022-08-01T09:29:06.899212Z",
          "iopub.status.idle": "2022-08-01T09:29:07.011744Z",
          "shell.execute_reply.started": "2022-08-01T09:29:06.899179Z",
          "shell.execute_reply": "2022-08-01T09:29:07.010491Z"
        },
        "trusted": true,
        "id": "kSTtUSTw33v3"
      },
      "execution_count": 454,
      "outputs": []
    },
    {
      "cell_type": "code",
      "source": [
        "dls.show_batch()"
      ],
      "metadata": {
        "execution": {
          "iopub.status.busy": "2022-08-01T09:29:07.014598Z",
          "iopub.execute_input": "2022-08-01T09:29:07.014993Z",
          "iopub.status.idle": "2022-08-01T09:29:07.091887Z",
          "shell.execute_reply.started": "2022-08-01T09:29:07.014958Z",
          "shell.execute_reply": "2022-08-01T09:29:07.090701Z"
        },
        "trusted": true,
        "colab": {
          "base_uri": "https://localhost:8080/",
          "height": 487
        },
        "id": "_b2DGZlf33v3",
        "outputId": "88198dc7-b2b0-4512-872d-e68b234b8173"
      },
      "execution_count": 455,
      "outputs": [
        {
          "output_type": "display_data",
          "data": {
            "text/plain": [
              "<IPython.core.display.HTML object>"
            ],
            "text/html": [
              "<table border=\"1\" class=\"dataframe\">\n",
              "  <thead>\n",
              "    <tr style=\"text-align: right;\">\n",
              "      <th></th>\n",
              "      <th>PassengerId</th>\n",
              "      <th>HomePlanet</th>\n",
              "      <th>CryoSleep</th>\n",
              "      <th>Destination</th>\n",
              "      <th>VIP</th>\n",
              "      <th>Name</th>\n",
              "      <th>deck</th>\n",
              "      <th>room_num</th>\n",
              "      <th>room_side</th>\n",
              "      <th>isAlone</th>\n",
              "      <th>Spending</th>\n",
              "      <th>Age</th>\n",
              "      <th>RoomService</th>\n",
              "      <th>FoodCourt</th>\n",
              "      <th>ShoppingMall</th>\n",
              "      <th>Spa</th>\n",
              "      <th>VRDeck</th>\n",
              "      <th>Transported</th>\n",
              "    </tr>\n",
              "  </thead>\n",
              "  <tbody>\n",
              "    <tr>\n",
              "      <th>0</th>\n",
              "      <td>2506</td>\n",
              "      <td>Earth</td>\n",
              "      <td>False</td>\n",
              "      <td>55 Cancri e</td>\n",
              "      <td>False</td>\n",
              "      <td>Apenelexy</td>\n",
              "      <td>A</td>\n",
              "      <td>19</td>\n",
              "      <td>P</td>\n",
              "      <td>False</td>\n",
              "      <td>True</td>\n",
              "      <td>38.0</td>\n",
              "      <td>0.000003</td>\n",
              "      <td>2506.000115</td>\n",
              "      <td>46.000004</td>\n",
              "      <td>11001.000334</td>\n",
              "      <td>5.000001</td>\n",
              "      <td>False</td>\n",
              "    </tr>\n",
              "    <tr>\n",
              "      <th>1</th>\n",
              "      <td>8673</td>\n",
              "      <td>Europa</td>\n",
              "      <td>True</td>\n",
              "      <td>TRAPPIST-1e</td>\n",
              "      <td>False</td>\n",
              "      <td>Pentical</td>\n",
              "      <td>C</td>\n",
              "      <td>285</td>\n",
              "      <td>P</td>\n",
              "      <td>True</td>\n",
              "      <td>False</td>\n",
              "      <td>27.0</td>\n",
              "      <td>0.000003</td>\n",
              "      <td>-0.000004</td>\n",
              "      <td>-0.000003</td>\n",
              "      <td>0.000015</td>\n",
              "      <td>-0.000008</td>\n",
              "      <td>True</td>\n",
              "    </tr>\n",
              "    <tr>\n",
              "      <th>2</th>\n",
              "      <td>2865</td>\n",
              "      <td>Mars</td>\n",
              "      <td>False</td>\n",
              "      <td>TRAPPIST-1e</td>\n",
              "      <td>False</td>\n",
              "      <td>Corie</td>\n",
              "      <td>D</td>\n",
              "      <td>88</td>\n",
              "      <td>P</td>\n",
              "      <td>False</td>\n",
              "      <td>True</td>\n",
              "      <td>34.0</td>\n",
              "      <td>2904.000079</td>\n",
              "      <td>23.000001</td>\n",
              "      <td>7.000007</td>\n",
              "      <td>0.000015</td>\n",
              "      <td>81.000005</td>\n",
              "      <td>False</td>\n",
              "    </tr>\n",
              "    <tr>\n",
              "      <th>3</th>\n",
              "      <td>6921</td>\n",
              "      <td>Europa</td>\n",
              "      <td>True</td>\n",
              "      <td>55 Cancri e</td>\n",
              "      <td>False</td>\n",
              "      <td>Fordulgaug</td>\n",
              "      <td>C</td>\n",
              "      <td>255</td>\n",
              "      <td>S</td>\n",
              "      <td>False</td>\n",
              "      <td>False</td>\n",
              "      <td>24.0</td>\n",
              "      <td>0.000003</td>\n",
              "      <td>-0.000004</td>\n",
              "      <td>-0.000003</td>\n",
              "      <td>0.000015</td>\n",
              "      <td>-0.000008</td>\n",
              "      <td>True</td>\n",
              "    </tr>\n",
              "    <tr>\n",
              "      <th>4</th>\n",
              "      <td>3488</td>\n",
              "      <td>Europa</td>\n",
              "      <td>False</td>\n",
              "      <td>TRAPPIST-1e</td>\n",
              "      <td>False</td>\n",
              "      <td>Hoorbaring</td>\n",
              "      <td>D</td>\n",
              "      <td>110</td>\n",
              "      <td>P</td>\n",
              "      <td>False</td>\n",
              "      <td>False</td>\n",
              "      <td>26.0</td>\n",
              "      <td>0.000003</td>\n",
              "      <td>-0.000004</td>\n",
              "      <td>-0.000003</td>\n",
              "      <td>0.000015</td>\n",
              "      <td>-0.000008</td>\n",
              "      <td>False</td>\n",
              "    </tr>\n",
              "    <tr>\n",
              "      <th>5</th>\n",
              "      <td>6865</td>\n",
              "      <td>Europa</td>\n",
              "      <td>True</td>\n",
              "      <td>TRAPPIST-1e</td>\n",
              "      <td>False</td>\n",
              "      <td>Peducting</td>\n",
              "      <td>D</td>\n",
              "      <td>208</td>\n",
              "      <td>S</td>\n",
              "      <td>False</td>\n",
              "      <td>False</td>\n",
              "      <td>32.0</td>\n",
              "      <td>0.000003</td>\n",
              "      <td>-0.000004</td>\n",
              "      <td>-0.000003</td>\n",
              "      <td>0.000015</td>\n",
              "      <td>-0.000008</td>\n",
              "      <td>True</td>\n",
              "    </tr>\n",
              "    <tr>\n",
              "      <th>6</th>\n",
              "      <td>7483</td>\n",
              "      <td>Mars</td>\n",
              "      <td>False</td>\n",
              "      <td>PSO J318.5-22</td>\n",
              "      <td>False</td>\n",
              "      <td>Winie</td>\n",
              "      <td>E</td>\n",
              "      <td>485</td>\n",
              "      <td>P</td>\n",
              "      <td>True</td>\n",
              "      <td>True</td>\n",
              "      <td>43.0</td>\n",
              "      <td>244.000001</td>\n",
              "      <td>-0.000004</td>\n",
              "      <td>358.000002</td>\n",
              "      <td>159.999997</td>\n",
              "      <td>799.999997</td>\n",
              "      <td>True</td>\n",
              "    </tr>\n",
              "    <tr>\n",
              "      <th>7</th>\n",
              "      <td>8209</td>\n",
              "      <td>Earth</td>\n",
              "      <td>False</td>\n",
              "      <td>TRAPPIST-1e</td>\n",
              "      <td>False</td>\n",
              "      <td>Mirandry</td>\n",
              "      <td>G</td>\n",
              "      <td>1332</td>\n",
              "      <td>P</td>\n",
              "      <td>True</td>\n",
              "      <td>True</td>\n",
              "      <td>57.0</td>\n",
              "      <td>5.999992</td>\n",
              "      <td>509.999998</td>\n",
              "      <td>372.000005</td>\n",
              "      <td>0.000015</td>\n",
              "      <td>-0.000008</td>\n",
              "      <td>True</td>\n",
              "    </tr>\n",
              "    <tr>\n",
              "      <th>8</th>\n",
              "      <td>3218</td>\n",
              "      <td>Earth</td>\n",
              "      <td>False</td>\n",
              "      <td>55 Cancri e</td>\n",
              "      <td>False</td>\n",
              "      <td>Bardinard</td>\n",
              "      <td>F</td>\n",
              "      <td>606</td>\n",
              "      <td>S</td>\n",
              "      <td>False</td>\n",
              "      <td>True</td>\n",
              "      <td>58.0</td>\n",
              "      <td>51.999991</td>\n",
              "      <td>-0.000004</td>\n",
              "      <td>5.000004</td>\n",
              "      <td>516.999992</td>\n",
              "      <td>-0.000008</td>\n",
              "      <td>False</td>\n",
              "    </tr>\n",
              "    <tr>\n",
              "      <th>9</th>\n",
              "      <td>4020</td>\n",
              "      <td>Europa</td>\n",
              "      <td>False</td>\n",
              "      <td>55 Cancri e</td>\n",
              "      <td>False</td>\n",
              "      <td>unknown</td>\n",
              "      <td>B</td>\n",
              "      <td>126</td>\n",
              "      <td>P</td>\n",
              "      <td>True</td>\n",
              "      <td>True</td>\n",
              "      <td>37.0</td>\n",
              "      <td>6498.000104</td>\n",
              "      <td>1470.000017</td>\n",
              "      <td>-0.000003</td>\n",
              "      <td>415.999998</td>\n",
              "      <td>4174.000152</td>\n",
              "      <td>False</td>\n",
              "    </tr>\n",
              "  </tbody>\n",
              "</table>"
            ]
          },
          "metadata": {}
        }
      ]
    },
    {
      "cell_type": "code",
      "source": [
        "len(dls.train), len(dls.valid)\n",
        "# dls.one_batch()"
      ],
      "metadata": {
        "execution": {
          "iopub.status.busy": "2022-08-01T09:29:07.093364Z",
          "iopub.execute_input": "2022-08-01T09:29:07.094315Z",
          "iopub.status.idle": "2022-08-01T09:29:07.105782Z",
          "shell.execute_reply.started": "2022-08-01T09:29:07.094267Z",
          "shell.execute_reply": "2022-08-01T09:29:07.101119Z"
        },
        "trusted": true,
        "colab": {
          "base_uri": "https://localhost:8080/"
        },
        "id": "yFkesl2q33v3",
        "outputId": "80f79e38-e3d1-4780-a4b5-53c3ccd53524"
      },
      "execution_count": 456,
      "outputs": [
        {
          "output_type": "execute_result",
          "data": {
            "text/plain": [
              "(108, 28)"
            ]
          },
          "metadata": {},
          "execution_count": 456
        }
      ]
    },
    {
      "cell_type": "code",
      "source": [
        "# my_config = tabular_config(y_range=(0,1), use_bn=True, ps=0.1, embed_p=0.1)\n",
        "# learn = tabular_learner(dls,layers=[200,100],metrics=accuracy,config=my_config)"
      ],
      "metadata": {
        "id": "98Mgvtcz-xZl"
      },
      "execution_count": 457,
      "outputs": []
    },
    {
      "cell_type": "code",
      "source": [
        "save_callback=SaveModelCallback(fname='best_model',monitor='accuracy',reset_on_fit=False,with_opt=True)\n",
        "for _ in range(5):\n",
        "    my_config = tabular_config(y_range=(0,1), use_bn=True, ps=0.1, embed_p=0.1)\n",
        "    learn = tabular_learner(dls,layers=[200,100],metrics=accuracy,config=my_config)\n",
        "    learn.fit_one_cycle(1,1e-3,wd=0.01,cbs=save_callback)"
      ],
      "metadata": {
        "execution": {
          "iopub.status.busy": "2022-08-01T09:29:07.107694Z",
          "iopub.execute_input": "2022-08-01T09:29:07.108117Z",
          "iopub.status.idle": "2022-08-01T09:29:17.388964Z",
          "shell.execute_reply.started": "2022-08-01T09:29:07.108082Z",
          "shell.execute_reply": "2022-08-01T09:29:17.387650Z"
        },
        "trusted": true,
        "colab": {
          "base_uri": "https://localhost:8080/",
          "height": 388
        },
        "id": "NB-WRNdf33v3",
        "outputId": "e016a51f-8175-40dc-899d-2fc4fd1153c6"
      },
      "execution_count": 458,
      "outputs": [
        {
          "output_type": "display_data",
          "data": {
            "text/plain": [
              "<IPython.core.display.HTML object>"
            ],
            "text/html": [
              "\n",
              "<style>\n",
              "    /* Turns off some styling */\n",
              "    progress {\n",
              "        /* gets rid of default border in Firefox and Opera. */\n",
              "        border: none;\n",
              "        /* Needs to be in here for Safari polyfill so background images work as expected. */\n",
              "        background-size: auto;\n",
              "    }\n",
              "    progress:not([value]), progress:not([value])::-webkit-progress-bar {\n",
              "        background: repeating-linear-gradient(45deg, #7e7e7e, #7e7e7e 10px, #5c5c5c 10px, #5c5c5c 20px);\n",
              "    }\n",
              "    .progress-bar-interrupted, .progress-bar-interrupted::-webkit-progress-bar {\n",
              "        background: #F44336;\n",
              "    }\n",
              "</style>\n"
            ]
          },
          "metadata": {}
        },
        {
          "output_type": "display_data",
          "data": {
            "text/plain": [
              "<IPython.core.display.HTML object>"
            ],
            "text/html": [
              "<table border=\"1\" class=\"dataframe\">\n",
              "  <thead>\n",
              "    <tr style=\"text-align: left;\">\n",
              "      <th>epoch</th>\n",
              "      <th>train_loss</th>\n",
              "      <th>valid_loss</th>\n",
              "      <th>accuracy</th>\n",
              "      <th>time</th>\n",
              "    </tr>\n",
              "  </thead>\n",
              "  <tbody>\n",
              "    <tr>\n",
              "      <td>0</td>\n",
              "      <td>0.529537</td>\n",
              "      <td>0.519532</td>\n",
              "      <td>0.781358</td>\n",
              "      <td>00:04</td>\n",
              "    </tr>\n",
              "  </tbody>\n",
              "</table>"
            ]
          },
          "metadata": {}
        },
        {
          "output_type": "stream",
          "name": "stdout",
          "text": [
            "Better model found at epoch 0 with accuracy value: 0.7813578844070435.\n"
          ]
        },
        {
          "output_type": "display_data",
          "data": {
            "text/plain": [
              "<IPython.core.display.HTML object>"
            ],
            "text/html": [
              "\n",
              "<style>\n",
              "    /* Turns off some styling */\n",
              "    progress {\n",
              "        /* gets rid of default border in Firefox and Opera. */\n",
              "        border: none;\n",
              "        /* Needs to be in here for Safari polyfill so background images work as expected. */\n",
              "        background-size: auto;\n",
              "    }\n",
              "    progress:not([value]), progress:not([value])::-webkit-progress-bar {\n",
              "        background: repeating-linear-gradient(45deg, #7e7e7e, #7e7e7e 10px, #5c5c5c 10px, #5c5c5c 20px);\n",
              "    }\n",
              "    .progress-bar-interrupted, .progress-bar-interrupted::-webkit-progress-bar {\n",
              "        background: #F44336;\n",
              "    }\n",
              "</style>\n"
            ]
          },
          "metadata": {}
        },
        {
          "output_type": "display_data",
          "data": {
            "text/plain": [
              "<IPython.core.display.HTML object>"
            ],
            "text/html": [
              "<table border=\"1\" class=\"dataframe\">\n",
              "  <thead>\n",
              "    <tr style=\"text-align: left;\">\n",
              "      <th>epoch</th>\n",
              "      <th>train_loss</th>\n",
              "      <th>valid_loss</th>\n",
              "      <th>accuracy</th>\n",
              "      <th>time</th>\n",
              "    </tr>\n",
              "  </thead>\n",
              "  <tbody>\n",
              "    <tr>\n",
              "      <td>0</td>\n",
              "      <td>0.533576</td>\n",
              "      <td>0.518364</td>\n",
              "      <td>0.780207</td>\n",
              "      <td>00:04</td>\n",
              "    </tr>\n",
              "  </tbody>\n",
              "</table>"
            ]
          },
          "metadata": {}
        },
        {
          "output_type": "display_data",
          "data": {
            "text/plain": [
              "<IPython.core.display.HTML object>"
            ],
            "text/html": [
              "\n",
              "<style>\n",
              "    /* Turns off some styling */\n",
              "    progress {\n",
              "        /* gets rid of default border in Firefox and Opera. */\n",
              "        border: none;\n",
              "        /* Needs to be in here for Safari polyfill so background images work as expected. */\n",
              "        background-size: auto;\n",
              "    }\n",
              "    progress:not([value]), progress:not([value])::-webkit-progress-bar {\n",
              "        background: repeating-linear-gradient(45deg, #7e7e7e, #7e7e7e 10px, #5c5c5c 10px, #5c5c5c 20px);\n",
              "    }\n",
              "    .progress-bar-interrupted, .progress-bar-interrupted::-webkit-progress-bar {\n",
              "        background: #F44336;\n",
              "    }\n",
              "</style>\n"
            ]
          },
          "metadata": {}
        },
        {
          "output_type": "display_data",
          "data": {
            "text/plain": [
              "<IPython.core.display.HTML object>"
            ],
            "text/html": [
              "<table border=\"1\" class=\"dataframe\">\n",
              "  <thead>\n",
              "    <tr style=\"text-align: left;\">\n",
              "      <th>epoch</th>\n",
              "      <th>train_loss</th>\n",
              "      <th>valid_loss</th>\n",
              "      <th>accuracy</th>\n",
              "      <th>time</th>\n",
              "    </tr>\n",
              "  </thead>\n",
              "  <tbody>\n",
              "    <tr>\n",
              "      <td>0</td>\n",
              "      <td>0.534394</td>\n",
              "      <td>0.519580</td>\n",
              "      <td>0.783659</td>\n",
              "      <td>00:04</td>\n",
              "    </tr>\n",
              "  </tbody>\n",
              "</table>"
            ]
          },
          "metadata": {}
        },
        {
          "output_type": "stream",
          "name": "stdout",
          "text": [
            "Better model found at epoch 0 with accuracy value: 0.7836593985557556.\n"
          ]
        },
        {
          "output_type": "display_data",
          "data": {
            "text/plain": [
              "<IPython.core.display.HTML object>"
            ],
            "text/html": [
              "\n",
              "<style>\n",
              "    /* Turns off some styling */\n",
              "    progress {\n",
              "        /* gets rid of default border in Firefox and Opera. */\n",
              "        border: none;\n",
              "        /* Needs to be in here for Safari polyfill so background images work as expected. */\n",
              "        background-size: auto;\n",
              "    }\n",
              "    progress:not([value]), progress:not([value])::-webkit-progress-bar {\n",
              "        background: repeating-linear-gradient(45deg, #7e7e7e, #7e7e7e 10px, #5c5c5c 10px, #5c5c5c 20px);\n",
              "    }\n",
              "    .progress-bar-interrupted, .progress-bar-interrupted::-webkit-progress-bar {\n",
              "        background: #F44336;\n",
              "    }\n",
              "</style>\n"
            ]
          },
          "metadata": {}
        },
        {
          "output_type": "display_data",
          "data": {
            "text/plain": [
              "<IPython.core.display.HTML object>"
            ],
            "text/html": [
              "<table border=\"1\" class=\"dataframe\">\n",
              "  <thead>\n",
              "    <tr style=\"text-align: left;\">\n",
              "      <th>epoch</th>\n",
              "      <th>train_loss</th>\n",
              "      <th>valid_loss</th>\n",
              "      <th>accuracy</th>\n",
              "      <th>time</th>\n",
              "    </tr>\n",
              "  </thead>\n",
              "  <tbody>\n",
              "    <tr>\n",
              "      <td>0</td>\n",
              "      <td>0.535259</td>\n",
              "      <td>0.523013</td>\n",
              "      <td>0.781358</td>\n",
              "      <td>00:04</td>\n",
              "    </tr>\n",
              "  </tbody>\n",
              "</table>"
            ]
          },
          "metadata": {}
        },
        {
          "output_type": "display_data",
          "data": {
            "text/plain": [
              "<IPython.core.display.HTML object>"
            ],
            "text/html": [
              "\n",
              "<style>\n",
              "    /* Turns off some styling */\n",
              "    progress {\n",
              "        /* gets rid of default border in Firefox and Opera. */\n",
              "        border: none;\n",
              "        /* Needs to be in here for Safari polyfill so background images work as expected. */\n",
              "        background-size: auto;\n",
              "    }\n",
              "    progress:not([value]), progress:not([value])::-webkit-progress-bar {\n",
              "        background: repeating-linear-gradient(45deg, #7e7e7e, #7e7e7e 10px, #5c5c5c 10px, #5c5c5c 20px);\n",
              "    }\n",
              "    .progress-bar-interrupted, .progress-bar-interrupted::-webkit-progress-bar {\n",
              "        background: #F44336;\n",
              "    }\n",
              "</style>\n"
            ]
          },
          "metadata": {}
        },
        {
          "output_type": "display_data",
          "data": {
            "text/plain": [
              "<IPython.core.display.HTML object>"
            ],
            "text/html": [
              "<table border=\"1\" class=\"dataframe\">\n",
              "  <thead>\n",
              "    <tr style=\"text-align: left;\">\n",
              "      <th>epoch</th>\n",
              "      <th>train_loss</th>\n",
              "      <th>valid_loss</th>\n",
              "      <th>accuracy</th>\n",
              "      <th>time</th>\n",
              "    </tr>\n",
              "  </thead>\n",
              "  <tbody>\n",
              "    <tr>\n",
              "      <td>0</td>\n",
              "      <td>0.534224</td>\n",
              "      <td>0.519377</td>\n",
              "      <td>0.787112</td>\n",
              "      <td>00:04</td>\n",
              "    </tr>\n",
              "  </tbody>\n",
              "</table>"
            ]
          },
          "metadata": {}
        },
        {
          "output_type": "stream",
          "name": "stdout",
          "text": [
            "Better model found at epoch 0 with accuracy value: 0.7871116399765015.\n"
          ]
        }
      ]
    },
    {
      "cell_type": "code",
      "source": [
        "# learn.fit(1,1e-3,wd=0.01)"
      ],
      "metadata": {
        "execution": {
          "iopub.status.busy": "2022-08-01T09:29:17.392321Z",
          "iopub.execute_input": "2022-08-01T09:29:17.393310Z",
          "iopub.status.idle": "2022-08-01T09:29:17.398188Z",
          "shell.execute_reply.started": "2022-08-01T09:29:17.393258Z",
          "shell.execute_reply": "2022-08-01T09:29:17.397040Z"
        },
        "trusted": true,
        "id": "m5Rb6OlC33v4"
      },
      "execution_count": 397,
      "outputs": []
    },
    {
      "cell_type": "code",
      "source": [
        "# learn.fit_one_cycle(20,1e-3,wd=0.01)"
      ],
      "metadata": {
        "execution": {
          "iopub.status.busy": "2022-08-01T09:29:17.399903Z",
          "iopub.execute_input": "2022-08-01T09:29:17.400232Z",
          "iopub.status.idle": "2022-08-01T09:29:17.411365Z",
          "shell.execute_reply.started": "2022-08-01T09:29:17.400203Z",
          "shell.execute_reply": "2022-08-01T09:29:17.410220Z"
        },
        "trusted": true,
        "id": "DbECFWLl33v4"
      },
      "execution_count": 398,
      "outputs": []
    },
    {
      "cell_type": "code",
      "source": [
        "# learn.load(\"best_model\")"
      ],
      "metadata": {
        "execution": {
          "iopub.status.busy": "2022-08-01T09:29:17.412823Z",
          "iopub.execute_input": "2022-08-01T09:29:17.413831Z",
          "iopub.status.idle": "2022-08-01T09:29:17.454808Z",
          "shell.execute_reply.started": "2022-08-01T09:29:17.413786Z",
          "shell.execute_reply": "2022-08-01T09:29:17.453929Z"
        },
        "trusted": true,
        "colab": {
          "base_uri": "https://localhost:8080/"
        },
        "id": "MEdbLFi533v4",
        "outputId": "b1d104be-f94b-4442-899f-4b92b76e6c55"
      },
      "execution_count": 354,
      "outputs": [
        {
          "output_type": "execute_result",
          "data": {
            "text/plain": [
              "<fastai.tabular.learner.TabularLearner at 0x7fb57c792450>"
            ]
          },
          "metadata": {},
          "execution_count": 354
        }
      ]
    },
    {
      "cell_type": "code",
      "source": [
        "learn.validate()"
      ],
      "metadata": {
        "execution": {
          "iopub.status.busy": "2022-08-01T09:29:17.456358Z",
          "iopub.execute_input": "2022-08-01T09:29:17.456715Z",
          "iopub.status.idle": "2022-08-01T09:29:17.642113Z",
          "shell.execute_reply.started": "2022-08-01T09:29:17.456683Z",
          "shell.execute_reply": "2022-08-01T09:29:17.641333Z"
        },
        "trusted": true,
        "colab": {
          "base_uri": "https://localhost:8080/",
          "height": 34
        },
        "id": "tZssSe5233v4",
        "outputId": "707117e5-646e-4239-8c19-1e84482deed4"
      },
      "execution_count": 459,
      "outputs": [
        {
          "output_type": "display_data",
          "data": {
            "text/plain": [
              "<IPython.core.display.HTML object>"
            ],
            "text/html": [
              "\n",
              "<style>\n",
              "    /* Turns off some styling */\n",
              "    progress {\n",
              "        /* gets rid of default border in Firefox and Opera. */\n",
              "        border: none;\n",
              "        /* Needs to be in here for Safari polyfill so background images work as expected. */\n",
              "        background-size: auto;\n",
              "    }\n",
              "    progress:not([value]), progress:not([value])::-webkit-progress-bar {\n",
              "        background: repeating-linear-gradient(45deg, #7e7e7e, #7e7e7e 10px, #5c5c5c 10px, #5c5c5c 20px);\n",
              "    }\n",
              "    .progress-bar-interrupted, .progress-bar-interrupted::-webkit-progress-bar {\n",
              "        background: #F44336;\n",
              "    }\n",
              "</style>\n"
            ]
          },
          "metadata": {}
        },
        {
          "output_type": "display_data",
          "data": {
            "text/plain": [
              "<IPython.core.display.HTML object>"
            ],
            "text/html": [
              ""
            ]
          },
          "metadata": {}
        },
        {
          "output_type": "execute_result",
          "data": {
            "text/plain": [
              "(#2) [0.5193769931793213,0.7871116399765015]"
            ]
          },
          "metadata": {},
          "execution_count": 459
        }
      ]
    },
    {
      "cell_type": "code",
      "source": [
        "interp = ClassificationInterpretation.from_learner(learn)\n",
        "interp.plot_confusion_matrix()"
      ],
      "metadata": {
        "execution": {
          "iopub.status.busy": "2022-08-01T09:30:22.581195Z",
          "iopub.execute_input": "2022-08-01T09:30:22.581718Z",
          "iopub.status.idle": "2022-08-01T09:30:23.079121Z",
          "shell.execute_reply.started": "2022-08-01T09:30:22.581666Z",
          "shell.execute_reply": "2022-08-01T09:30:23.077811Z"
        },
        "trusted": true,
        "colab": {
          "base_uri": "https://localhost:8080/",
          "height": 311
        },
        "id": "2E2nRdMY33v4",
        "outputId": "0d3f32df-bb3a-47ef-b5d7-63bf0ffe3cf8"
      },
      "execution_count": 460,
      "outputs": [
        {
          "output_type": "display_data",
          "data": {
            "text/plain": [
              "<IPython.core.display.HTML object>"
            ],
            "text/html": [
              "\n",
              "<style>\n",
              "    /* Turns off some styling */\n",
              "    progress {\n",
              "        /* gets rid of default border in Firefox and Opera. */\n",
              "        border: none;\n",
              "        /* Needs to be in here for Safari polyfill so background images work as expected. */\n",
              "        background-size: auto;\n",
              "    }\n",
              "    progress:not([value]), progress:not([value])::-webkit-progress-bar {\n",
              "        background: repeating-linear-gradient(45deg, #7e7e7e, #7e7e7e 10px, #5c5c5c 10px, #5c5c5c 20px);\n",
              "    }\n",
              "    .progress-bar-interrupted, .progress-bar-interrupted::-webkit-progress-bar {\n",
              "        background: #F44336;\n",
              "    }\n",
              "</style>\n"
            ]
          },
          "metadata": {}
        },
        {
          "output_type": "display_data",
          "data": {
            "text/plain": [
              "<IPython.core.display.HTML object>"
            ],
            "text/html": [
              ""
            ]
          },
          "metadata": {}
        },
        {
          "output_type": "display_data",
          "data": {
            "text/plain": [
              "<IPython.core.display.HTML object>"
            ],
            "text/html": [
              "\n",
              "<style>\n",
              "    /* Turns off some styling */\n",
              "    progress {\n",
              "        /* gets rid of default border in Firefox and Opera. */\n",
              "        border: none;\n",
              "        /* Needs to be in here for Safari polyfill so background images work as expected. */\n",
              "        background-size: auto;\n",
              "    }\n",
              "    progress:not([value]), progress:not([value])::-webkit-progress-bar {\n",
              "        background: repeating-linear-gradient(45deg, #7e7e7e, #7e7e7e 10px, #5c5c5c 10px, #5c5c5c 20px);\n",
              "    }\n",
              "    .progress-bar-interrupted, .progress-bar-interrupted::-webkit-progress-bar {\n",
              "        background: #F44336;\n",
              "    }\n",
              "</style>\n"
            ]
          },
          "metadata": {}
        },
        {
          "output_type": "display_data",
          "data": {
            "text/plain": [
              "<IPython.core.display.HTML object>"
            ],
            "text/html": [
              ""
            ]
          },
          "metadata": {}
        },
        {
          "output_type": "display_data",
          "data": {
            "text/plain": [
              "<Figure size 432x288 with 1 Axes>"
            ],
            "image/png": "[encoded data removed]"
          },
          "metadata": {
            "needs_background": "light"
          }
        }
      ]
    },
    {
      "cell_type": "code",
      "source": [
        "# learn.fit_one_cycle(1,1e-3)"
      ],
      "metadata": {
        "execution": {
          "iopub.status.busy": "2022-08-01T09:29:17.786716Z",
          "iopub.status.idle": "2022-08-01T09:29:17.787359Z",
          "shell.execute_reply.started": "2022-08-01T09:29:17.787140Z",
          "shell.execute_reply": "2022-08-01T09:29:17.787164Z"
        },
        "trusted": true,
        "id": "z9q1sCZ333v5"
      },
      "execution_count": 461,
      "outputs": []
    },
    {
      "cell_type": "code",
      "source": [
        "# learn.fit_one_cycle(5,1e-2)"
      ],
      "metadata": {
        "execution": {
          "iopub.status.busy": "2022-08-01T09:29:17.788537Z",
          "iopub.status.idle": "2022-08-01T09:29:17.789188Z",
          "shell.execute_reply.started": "2022-08-01T09:29:17.788960Z",
          "shell.execute_reply": "2022-08-01T09:29:17.788988Z"
        },
        "trusted": true,
        "id": "B3vLJKQA33v5"
      },
      "execution_count": 358,
      "outputs": []
    },
    {
      "cell_type": "code",
      "source": [
        "categorical_cols\n",
        "# learn.show_results()\n",
        "#dlt = learn.dls.test_dl(test_df) \n",
        "# learn.predict(test_df[:1])"
      ],
      "metadata": {
        "execution": {
          "iopub.status.busy": "2022-08-01T09:29:17.790305Z",
          "iopub.status.idle": "2022-08-01T09:29:17.790929Z",
          "shell.execute_reply.started": "2022-08-01T09:29:17.790708Z",
          "shell.execute_reply": "2022-08-01T09:29:17.790734Z"
        },
        "trusted": true,
        "id": "xLvoYVgm33v5"
      },
      "execution_count": null,
      "outputs": []
    },
    {
      "cell_type": "code",
      "source": [
        "# train_test_df"
      ],
      "metadata": {
        "execution": {
          "iopub.status.busy": "2022-08-01T09:29:17.792090Z",
          "iopub.status.idle": "2022-08-01T09:29:17.792487Z",
          "shell.execute_reply.started": "2022-08-01T09:29:17.792295Z",
          "shell.execute_reply": "2022-08-01T09:29:17.792315Z"
        },
        "trusted": true,
        "id": "0_3Vfr8g33v5"
      },
      "execution_count": 360,
      "outputs": []
    },
    {
      "cell_type": "code",
      "source": [
        "# ((train_test_df[['RoomService','FoodCourt','ShoppingMall','Spa','VRDeck']]!=0).sum(axis=1)>0) # was awake"
      ],
      "metadata": {
        "execution": {
          "iopub.status.busy": "2022-08-01T09:29:17.793691Z",
          "iopub.status.idle": "2022-08-01T09:29:17.794439Z",
          "shell.execute_reply.started": "2022-08-01T09:29:17.793888Z",
          "shell.execute_reply": "2022-08-01T09:29:17.793906Z"
        },
        "trusted": true,
        "id": "w4lcU6V-33v5"
      },
      "execution_count": 361,
      "outputs": []
    },
    {
      "cell_type": "code",
      "source": [
        "# train_test_df['CryoSleep']"
      ],
      "metadata": {
        "execution": {
          "iopub.status.busy": "2022-08-01T09:29:17.795886Z",
          "iopub.status.idle": "2022-08-01T09:29:17.796529Z",
          "shell.execute_reply.started": "2022-08-01T09:29:17.796324Z",
          "shell.execute_reply": "2022-08-01T09:29:17.796345Z"
        },
        "trusted": true,
        "id": "8IYzVE6M33v6"
      },
      "execution_count": 362,
      "outputs": []
    },
    {
      "cell_type": "code",
      "source": [
        "test_dl = learn.dls.test_dl(test_df) \n",
        "test_preds=learn.get_preds(dl=test_dl)[0]\n",
        "test_preds=test_preds.numpy().argmax(axis=-1)==1"
      ],
      "metadata": {
        "execution": {
          "iopub.status.busy": "2022-08-01T09:29:17.798336Z",
          "iopub.status.idle": "2022-08-01T09:29:17.798786Z",
          "shell.execute_reply.started": "2022-08-01T09:29:17.798538Z",
          "shell.execute_reply": "2022-08-01T09:29:17.798559Z"
        },
        "trusted": true,
        "colab": {
          "base_uri": "https://localhost:8080/",
          "height": 17
        },
        "id": "f6idq7R-33v6",
        "outputId": "0bd40640-3c81-409c-9621-73c3f001e2f1"
      },
      "execution_count": 462,
      "outputs": [
        {
          "output_type": "display_data",
          "data": {
            "text/plain": [
              "<IPython.core.display.HTML object>"
            ],
            "text/html": [
              "\n",
              "<style>\n",
              "    /* Turns off some styling */\n",
              "    progress {\n",
              "        /* gets rid of default border in Firefox and Opera. */\n",
              "        border: none;\n",
              "        /* Needs to be in here for Safari polyfill so background images work as expected. */\n",
              "        background-size: auto;\n",
              "    }\n",
              "    progress:not([value]), progress:not([value])::-webkit-progress-bar {\n",
              "        background: repeating-linear-gradient(45deg, #7e7e7e, #7e7e7e 10px, #5c5c5c 10px, #5c5c5c 20px);\n",
              "    }\n",
              "    .progress-bar-interrupted, .progress-bar-interrupted::-webkit-progress-bar {\n",
              "        background: #F44336;\n",
              "    }\n",
              "</style>\n"
            ]
          },
          "metadata": {}
        },
        {
          "output_type": "display_data",
          "data": {
            "text/plain": [
              "<IPython.core.display.HTML object>"
            ],
            "text/html": [
              ""
            ]
          },
          "metadata": {}
        }
      ]
    },
    {
      "cell_type": "code",
      "source": [
        "test_pids=np.array(pd.read_csv('test.csv')['PassengerId'])\n",
        "pd.DataFrame({\"PassengerId\":test_pids,\"Transported\":test_preds}).to_csv('submission.csv',index=False)"
      ],
      "metadata": {
        "execution": {
          "iopub.status.busy": "2022-08-01T09:29:17.800042Z",
          "iopub.status.idle": "2022-08-01T09:29:17.800907Z",
          "shell.execute_reply.started": "2022-08-01T09:29:17.800699Z",
          "shell.execute_reply": "2022-08-01T09:29:17.800720Z"
        },
        "trusted": true,
        "id": "DZDQ1fLk33v6"
      },
      "execution_count": 463,
      "outputs": []
    },
    {
      "cell_type": "code",
      "source": [
        "pd.read_csv('submission.csv')"
      ],
      "metadata": {
        "execution": {
          "iopub.status.busy": "2022-08-01T09:29:17.802081Z",
          "iopub.status.idle": "2022-08-01T09:29:17.803055Z",
          "shell.execute_reply.started": "2022-08-01T09:29:17.802852Z",
          "shell.execute_reply": "2022-08-01T09:29:17.802873Z"
        },
        "trusted": true,
        "colab": {
          "base_uri": "https://localhost:8080/",
          "height": 424
        },
        "id": "1OepWK_u33v6",
        "outputId": "9ac6483b-01ad-46d9-8e01-7fbbca44384a"
      },
      "execution_count": 464,
      "outputs": [
        {
          "output_type": "execute_result",
          "data": {
            "text/plain": [
              "     PassengerId  Transported\n",
              "0        0013_01         True\n",
              "1        0018_01        False\n",
              "2        0019_01         True\n",
              "3        0021_01         True\n",
              "4        0023_01        False\n",
              "...          ...          ...\n",
              "4272     9266_02         True\n",
              "4273     9269_01        False\n",
              "4274     9271_01         True\n",
              "4275     9273_01         True\n",
              "4276     9277_01         True\n",
              "\n",
              "[4277 rows x 2 columns]"
            ],
            "text/html": [
              "\n",
              "  <div id=\"df-704b31cf-00c6-4ea5-8ddc-873f5025a52d\">\n",
              "    <div class=\"colab-df-container\">\n",
              "      <div>\n",
              "<style scoped>\n",
              "    .dataframe tbody tr th:only-of-type {\n",
              "        vertical-align: middle;\n",
              "    }\n",
              "\n",
              "    .dataframe tbody tr th {\n",
              "        vertical-align: top;\n",
              "    }\n",
              "\n",
              "    .dataframe thead th {\n",
              "        text-align: right;\n",
              "    }\n",
              "</style>\n",
              "<table border=\"1\" class=\"dataframe\">\n",
              "  <thead>\n",
              "    <tr style=\"text-align: right;\">\n",
              "      <th></th>\n",
              "      <th>PassengerId</th>\n",
              "      <th>Transported</th>\n",
              "    </tr>\n",
              "  </thead>\n",
              "  <tbody>\n",
              "    <tr>\n",
              "      <th>0</th>\n",
              "      <td>0013_01</td>\n",
              "      <td>True</td>\n",
              "    </tr>\n",
              "    <tr>\n",
              "      <th>1</th>\n",
              "      <td>0018_01</td>\n",
              "      <td>False</td>\n",
              "    </tr>\n",
              "    <tr>\n",
              "      <th>2</th>\n",
              "      <td>0019_01</td>\n",
              "      <td>True</td>\n",
              "    </tr>\n",
              "    <tr>\n",
              "      <th>3</th>\n",
              "      <td>0021_01</td>\n",
              "      <td>True</td>\n",
              "    </tr>\n",
              "    <tr>\n",
              "      <th>4</th>\n",
              "      <td>0023_01</td>\n",
              "      <td>False</td>\n",
              "    </tr>\n",
              "    <tr>\n",
              "      <th>...</th>\n",
              "      <td>...</td>\n",
              "      <td>...</td>\n",
              "    </tr>\n",
              "    <tr>\n",
              "      <th>4272</th>\n",
              "      <td>9266_02</td>\n",
              "      <td>True</td>\n",
              "    </tr>\n",
              "    <tr>\n",
              "      <th>4273</th>\n",
              "      <td>9269_01</td>\n",
              "      <td>False</td>\n",
              "    </tr>\n",
              "    <tr>\n",
              "      <th>4274</th>\n",
              "      <td>9271_01</td>\n",
              "      <td>True</td>\n",
              "    </tr>\n",
              "    <tr>\n",
              "      <th>4275</th>\n",
              "      <td>9273_01</td>\n",
              "      <td>True</td>\n",
              "    </tr>\n",
              "    <tr>\n",
              "      <th>4276</th>\n",
              "      <td>9277_01</td>\n",
              "      <td>True</td>\n",
              "    </tr>\n",
              "  </tbody>\n",
              "</table>\n",
              "<p>4277 rows × 2 columns</p>\n",
              "</div>\n",
              "      <button class=\"colab-df-convert\" onclick=\"convertToInteractive('df-704b31cf-00c6-4ea5-8ddc-873f5025a52d')\"\n",
              "              title=\"Convert this dataframe to an interactive table.\"\n",
              "              style=\"display:none;\">\n",
              "        \n",
              "  <svg xmlns=\"http://www.w3.org/2000/svg\" height=\"24px\"viewBox=\"0 0 24 24\"\n",
              "       width=\"24px\">\n",
              "    <path d=\"M0 0h24v24H0V0z\" fill=\"none\"/>\n",
              "    <path d=\"M18.56 5.44l.94 2.06.94-2.06 2.06-.94-2.06-.94-.94-2.06-.94 2.06-2.06.94zm-11 1L8.5 8.5l.94-2.06 2.06-.94-2.06-.94L8.5 2.5l-.94 2.06-2.06.94zm10 10l.94 2.06.94-2.06 2.06-.94-2.06-.94-.94-2.06-.94 2.06-2.06.94z\"/><path d=\"M17.41 7.96l-1.37-1.37c-.4-.4-.92-.59-1.43-.59-.52 0-1.04.2-1.43.59L10.3 9.45l-7.72 7.72c-.78.78-.78 2.05 0 2.83L4 21.41c.39.39.9.59 1.41.59.51 0 1.02-.2 1.41-.59l7.78-7.78 2.81-2.81c.8-.78.8-2.07 0-2.86zM5.41 20L4 18.59l7.72-7.72 1.47 1.35L5.41 20z\"/>\n",
              "  </svg>\n",
              "      </button>\n",
              "      \n",
              "  <style>\n",
              "    .colab-df-container {\n",
              "      display:flex;\n",
              "      flex-wrap:wrap;\n",
              "      gap: 12px;\n",
              "    }\n",
              "\n",
              "    .colab-df-convert {\n",
              "      background-color: #E8F0FE;\n",
              "      border: none;\n",
              "      border-radius: 50%;\n",
              "      cursor: pointer;\n",
              "      display: none;\n",
              "      fill: #1967D2;\n",
              "      height: 32px;\n",
              "      padding: 0 0 0 0;\n",
              "      width: 32px;\n",
              "    }\n",
              "\n",
              "    .colab-df-convert:hover {\n",
              "      background-color: #E2EBFA;\n",
              "      box-shadow: 0px 1px 2px rgba(60, 64, 67, 0.3), 0px 1px 3px 1px rgba(60, 64, 67, 0.15);\n",
              "      fill: #174EA6;\n",
              "    }\n",
              "\n",
              "    [theme=dark] .colab-df-convert {\n",
              "      background-color: #3B4455;\n",
              "      fill: #D2E3FC;\n",
              "    }\n",
              "\n",
              "    [theme=dark] .colab-df-convert:hover {\n",
              "      background-color: #434B5C;\n",
              "      box-shadow: 0px 1px 3px 1px rgba(0, 0, 0, 0.15);\n",
              "      filter: drop-shadow(0px 1px 2px rgba(0, 0, 0, 0.3));\n",
              "      fill: #FFFFFF;\n",
              "    }\n",
              "  </style>\n",
              "\n",
              "      <script>\n",
              "        const buttonEl =\n",
              "          document.querySelector('#df-704b31cf-00c6-4ea5-8ddc-873f5025a52d button.colab-df-convert');\n",
              "        buttonEl.style.display =\n",
              "          google.colab.kernel.accessAllowed ? 'block' : 'none';\n",
              "\n",
              "        async function convertToInteractive(key) {\n",
              "          const element = document.querySelector('#df-704b31cf-00c6-4ea5-8ddc-873f5025a52d');\n",
              "          const dataTable =\n",
              "            await google.colab.kernel.invokeFunction('convertToInteractive',\n",
              "                                                     [key], {});\n",
              "          if (!dataTable) return;\n",
              "\n",
              "          const docLinkHtml = 'Like what you see? Visit the ' +\n",
              "            '<a target=\"_blank\" href=https://colab.research.google.com/notebooks/data_table.ipynb>data table notebook</a>'\n",
              "            + ' to learn more about interactive tables.';\n",
              "          element.innerHTML = '';\n",
              "          dataTable['output_type'] = 'display_data';\n",
              "          await google.colab.output.renderOutput(dataTable, element);\n",
              "          const docLink = document.createElement('div');\n",
              "          docLink.innerHTML = docLinkHtml;\n",
              "          element.appendChild(docLink);\n",
              "        }\n",
              "      </script>\n",
              "    </div>\n",
              "  </div>\n",
              "  "
            ]
          },
          "metadata": {},
          "execution_count": 464
        }
      ]
    },
    {
      "cell_type": "code",
      "source": [
        "!kaggle competitions submit -c spaceship-titanic -f submission.csv -m \"without_getting_pd.dummies\""
      ],
      "metadata": {
        "trusted": true,
        "colab": {
          "base_uri": "https://localhost:8080/"
        },
        "id": "JyNNfsoy33v6",
        "outputId": "f56bfb72-bf90-4552-c802-3bbc94106893"
      },
      "execution_count": 366,
      "outputs": [
        {
          "output_type": "stream",
          "name": "stdout",
          "text": [
            "100% 56.4k/56.4k [00:03<00:00, 14.9kB/s]\n",
            "Successfully submitted to Spaceship Titanic"
          ]
        }
      ]
    },
    {
      "cell_type": "code",
      "source": [
        "# train_test_df[cont_cols]"
      ],
      "metadata": {
        "execution": {
          "iopub.status.busy": "2022-08-01T09:29:17.804094Z",
          "iopub.status.idle": "2022-08-01T09:29:17.804971Z",
          "shell.execute_reply.started": "2022-08-01T09:29:17.804744Z",
          "shell.execute_reply": "2022-08-01T09:29:17.804765Z"
        },
        "trusted": true,
        "id": "cJcQqqCu33v6"
      },
      "execution_count": null,
      "outputs": []
    },
    {
      "cell_type": "code",
      "source": [
        ""
      ],
      "metadata": {
        "id": "vOqgUEb233v7"
      },
      "execution_count": null,
      "outputs": []
    }
  ]
}